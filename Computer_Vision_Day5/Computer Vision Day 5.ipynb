{
 "cells": [
  {
   "cell_type": "markdown",
   "id": "559c7cfa",
   "metadata": {},
   "source": [
    "# 영상의 기하학적 변환"
   ]
  },
  {
   "cell_type": "code",
   "execution_count": 2,
   "id": "1a64622d",
   "metadata": {},
   "outputs": [],
   "source": [
    "import cv2\n",
    "import numpy as np"
   ]
  },
  {
   "cell_type": "markdown",
   "id": "5dffd196",
   "metadata": {},
   "source": [
    "### 회전 변환"
   ]
  },
  {
   "cell_type": "code",
   "execution_count": 4,
   "id": "ba52b3f5",
   "metadata": {},
   "outputs": [
    {
     "data": {
      "text/plain": [
       "(480, 640, 3)"
      ]
     },
     "execution_count": 4,
     "metadata": {},
     "output_type": "execute_result"
    }
   ],
   "source": [
    "src.shape"
   ]
  },
  {
   "cell_type": "code",
   "execution_count": 6,
   "id": "8207e7d0",
   "metadata": {},
   "outputs": [],
   "source": [
    "src = cv2.imread('./data/tekapo.bmp')\n",
    "\n",
    "h, w = src.shape[0], src.shape[1]\n",
    "\n",
    "cp = h/2, w/2\n",
    "\n",
    "M = cv2.getRotationMatrix2D(cp, 20, 0.5)\n",
    "\n",
    "dst = cv2.warpAffine(src, M, (0,0))\n",
    "\n",
    "cv2.imshow('src', src)\n",
    "cv2.imshow('dst', dst)\n",
    "cv2.waitKey()\n",
    "cv2.destroyAllWindows()"
   ]
  },
  {
   "cell_type": "code",
   "execution_count": 9,
   "id": "28f27451",
   "metadata": {},
   "outputs": [],
   "source": [
    "# 참고\n",
    "dst1 = cv2.rotate(src, cv2.ROTATE_90_CLOCKWISE)\n",
    "dst2 = cv2.rotate(src, cv2.ROTATE_90_COUNTERCLOCKWISE)\n",
    "cv2.imshow('src', src)\n",
    "cv2.imshow('dst1', dst1)\n",
    "cv2.imshow('dst2', dst2)\n",
    "cv2.waitKey()\n",
    "cv2.destroyAllWindows()"
   ]
  },
  {
   "cell_type": "markdown",
   "id": "c9e08553",
   "metadata": {},
   "source": [
    "### 대칭 변환"
   ]
  },
  {
   "cell_type": "code",
   "execution_count": 16,
   "id": "9e85e607",
   "metadata": {},
   "outputs": [],
   "source": [
    "src = cv2.imread('./data/eastsea.bmp')\n",
    "\n",
    "cv2.imshow('src', src)\n",
    "\n",
    "for flip_code in [1, 0, -1]:\n",
    "    dst = cv2.flip(src, flip_code)\n",
    "    desc = \"flip code: %d\"% flip_code\n",
    "    cv2.putText(dst, desc, (10, 30), cv2.FONT_HERSHEY_SIMPLEX, 1.0, (255, 0, 0), 1, cv2.LINE_AA)\n",
    "    cv2.imshow('dst', dst)\n",
    "    cv2.waitKey()\n",
    "\n",
    "\n",
    "cv2.destroyAllWindows()"
   ]
  },
  {
   "cell_type": "markdown",
   "id": "6b3006f6",
   "metadata": {},
   "source": [
    "# 투시변환"
   ]
  },
  {
   "cell_type": "code",
   "execution_count": 17,
   "id": "391c3384",
   "metadata": {},
   "outputs": [],
   "source": [
    "import sys"
   ]
  },
  {
   "cell_type": "code",
   "execution_count": 23,
   "id": "6280173b",
   "metadata": {},
   "outputs": [],
   "source": [
    "cnt = 0\n",
    "src_pts = np.zeros([4,2], dtype=np.float32)\n",
    "\n",
    "def on_mouse(event, x, y, flags, param):\n",
    "    global src_pts, cnt\n",
    "    if event == cv2.EVENT_LBUTTONDOWN:\n",
    "        if cnt < 4:\n",
    "            src_pts[cnt, :] = np.array([x, y], dtype=np.float32)\n",
    "            cnt += 1\n",
    "            cv2.circle(src, (x, y), 5, (0, 0, 255), -1)\n",
    "            cv2.imshow('src', src)\n",
    "            \n",
    "        if cnt == 4:\n",
    "            w, h = (200, 300)\n",
    "            dst_pts = np.array([[0,0], [w-1, 0], [w-1, h-1], [0, h-1]], dtype=np.float32)\n",
    "            M = cv2.getPerspectiveTransform(src_pts, dst_pts)\n",
    "            dst = cv2.warpPerspective(src, M, (w, h))\n",
    "            cv2.imshow('dst', dst)\n",
    "\n",
    "src = cv2.imread('./data/card.bmp')\n",
    "\n",
    "if src is None:\n",
    "    print('Image load failed')\n",
    "    sys.exit()\n",
    "\n",
    "cv2.imshow('src', src)\n",
    "cv2.setMouseCallback('src', on_mouse)\n",
    "\n",
    "cv2.waitKey()\n",
    "cv2.destroyAllWindows()"
   ]
  },
  {
   "cell_type": "markdown",
   "id": "15384b5c",
   "metadata": {},
   "source": [
    "# 에지 검출과 응용"
   ]
  },
  {
   "cell_type": "markdown",
   "id": "55c9aeb9",
   "metadata": {},
   "source": [
    "### 마스크 기반 에지 검출 - 소벨 마스크"
   ]
  },
  {
   "cell_type": "code",
   "execution_count": 25,
   "id": "e72ba1e2",
   "metadata": {},
   "outputs": [],
   "source": [
    "src = cv2.imread('./data/lenna.bmp', cv2.IMREAD_GRAYSCALE)\n",
    "\n",
    "if src is None:\n",
    "    print(\"image load failed\")\n",
    "    sys.exit()\n",
    "\n",
    "mx = np.array(\n",
    "     [[-1, 0, 1],\n",
    "      [-2, 0, 2],\n",
    "      [-1, 0, 1]], dtype=np.float32)\n",
    "     \n",
    "\n",
    "my = np.array(\n",
    "     [[-1, -2, -1],\n",
    "      [0, 0, 0],\n",
    "      [1, 2, 1]], dtype=np.float32)\n",
    "     \n",
    "\n",
    "dx = cv2.filter2D(src, -1, mx, delta=128)\n",
    "dy = cv2.filter2D(src, -1, my, delta=128)\n",
    "\n",
    "# dx = cv2.Sobel(src, -1, 1, 0, delta=128)    \n",
    "# dy = cv2.Sobel(src, -1, 0, 1, delta=128)    \n",
    "\n",
    "cv2.imshow('src', src)\n",
    "cv2.imshow('dx', dx)\n",
    "cv2.imshow('dy', dy)\n",
    "cv2.waitKey()\n",
    "cv2.destroyAllWindows()"
   ]
  },
  {
   "cell_type": "code",
   "execution_count": 48,
   "id": "10096f28",
   "metadata": {},
   "outputs": [],
   "source": [
    "src = cv2.imread('./data/lenna.bmp', cv2.IMREAD_GRAYSCALE)\n",
    "\n",
    "if src is None:\n",
    "    print(\"image load failed\")\n",
    "    sys.exit()\n",
    "    \n",
    "dx = cv2.Sobel(src, cv2.CV_32FC1, 1, 0)    \n",
    "dy = cv2.Sobel(src, cv2.CV_32FC1, 0, 1)    \n",
    "\n",
    "fmag = cv2.magnitude(dx, dy)\n",
    "mag = np.clip(fmag, 0, 255).astype(np.uint8)\n",
    "\n",
    "_, edge = cv2.threshold(mag, 160, 255, cv2.THRESH_BINARY)\n",
    "\n",
    "cv2.imshow('src', src)\n",
    "cv2.imshow('mag', mag)\n",
    "cv2.imshow('edge', edge)\n",
    "cv2.waitKey()\n",
    "cv2.destroyAllWindows()"
   ]
  },
  {
   "cell_type": "markdown",
   "id": "ce1855a8",
   "metadata": {},
   "source": [
    "### 캐니 에즈 검출기"
   ]
  },
  {
   "cell_type": "code",
   "execution_count": 53,
   "id": "d2f451a9",
   "metadata": {},
   "outputs": [],
   "source": [
    "src = cv2.imread('./data/lenna.bmp', cv2.IMREAD_GRAYSCALE)\n",
    "\n",
    "if src is None:\n",
    "    print(\"image load failed\")\n",
    "    sys.exit()\n",
    "    \n",
    "dst1 = cv2.Canny(src, 50, 100)    \n",
    "dst2 = cv2.Canny(src, 50, 150)\n",
    "\n",
    "cv2.imshow('src', src)\n",
    "cv2.imshow('dst1', dst1)\n",
    "cv2.imshow('dst2', dst2)\n",
    "cv2.waitKey()\n",
    "cv2.destroyAllWindows()"
   ]
  },
  {
   "cell_type": "markdown",
   "id": "f84cf05f",
   "metadata": {},
   "source": [
    "### 허프 변환 직선 검출"
   ]
  },
  {
   "cell_type": "code",
   "execution_count": 68,
   "id": "c89d30cf",
   "metadata": {},
   "outputs": [],
   "source": [
    "import math\n",
    "src = cv2.imread('./data/building.jpg', cv2.IMREAD_GRAYSCALE)\n",
    "\n",
    "if src is None:\n",
    "    print(\"image load failed\")\n",
    "    sys.exit()\n",
    "    \n",
    "edge = cv2.Canny(src, 50, 150) \n",
    "\n",
    "rho = 1\n",
    "theta = math.pi/180\n",
    "\n",
    "lines = cv2.HoughLines(edge, rho, theta, 250)\n",
    "\n",
    "dst = cv2.cvtColor(edge, cv2.COLOR_GRAY2BGR)\n",
    "\n",
    "if lines is not None:\n",
    "    for i in range(lines.shape[0]):\n",
    "        rho = lines[i][0][0]\n",
    "        theta = lines[i][0][1]\n",
    "        cos_t = math.cos(theta)\n",
    "        sin_t = math.sin(theta)\n",
    "        \n",
    "        x0, y0 = rho*cos_t, rho * sin_t\n",
    "        alpha = 1000\n",
    "        \n",
    "        pt1 = (int(x0 -alpha*sin_t), int(y0+alpha*cos_t))\n",
    "        pt2 = (int(x0 +alpha*sin_t), int(y0-alpha*cos_t))\n",
    "        \n",
    "        cv2.line(dst, pt1, pt2, (0, 0, 255), 2, cv2.LINE_AA)\n",
    "\n",
    "\n",
    "cv2.imshow('src', src)\n",
    "cv2.imshow('edge', edge)\n",
    "cv2.imshow('dst', dst)\n",
    "cv2.waitKey()\n",
    "cv2.destroyAllWindows()"
   ]
  },
  {
   "cell_type": "code",
   "execution_count": 82,
   "id": "02b77102",
   "metadata": {},
   "outputs": [],
   "source": [
    "src = cv2.imread('./data/building.jpg', cv2.IMREAD_GRAYSCALE)\n",
    "\n",
    "if src is None:\n",
    "    print(\"image load failed\")\n",
    "    sys.exit()\n",
    "    \n",
    "edge = cv2.Canny(src, 50, 150) \n",
    "\n",
    "dst = cv2.cvtColor(edge, cv2.COLOR_GRAY2BGR)\n",
    "\n",
    "rho = 1\n",
    "theta = math.pi/180\n",
    "\n",
    "lines = cv2.HoughLinesP(edge, rho, theta, 160, minLineLength=50, maxLineGap=5)\n",
    "\n",
    "if lines is not None:\n",
    "    for i in range(lines.shape[0]):\n",
    "        pt1 = (lines[i][0][0], lines[i][0][1])\n",
    "        pt2 = (lines[i][0][2], lines[i][0][3])\n",
    "        cv2.line(dst, pt1, pt2, (0, 0, 255), 2, cv2.LINE_AA)\n",
    "        \n",
    "        \n",
    "cv2.imshow('src', src)\n",
    "cv2.imshow('dst', dst)\n",
    "cv2.waitKey()\n",
    "cv2.destroyAllWindows()        "
   ]
  },
  {
   "cell_type": "markdown",
   "id": "2aebadbd",
   "metadata": {},
   "source": [
    "### 허프 변환 원 검출"
   ]
  },
  {
   "cell_type": "code",
   "execution_count": 102,
   "id": "f65c843e",
   "metadata": {},
   "outputs": [],
   "source": [
    "src = cv2.imread('./data/coins.png', cv2.IMREAD_GRAYSCALE)\n",
    "\n",
    "if src is None:\n",
    "    print(\"image load failed\")\n",
    "    sys.exit()\n",
    "\n",
    "blurred = cv2.blur(src, (3,3))    \n",
    "circles = cv2.HoughCircles(blurred, cv2.HOUGH_GRADIENT, dp=1, minDist=50, param1=150, param2=30 )\n",
    "\n",
    "dst = cv2.cvtColor(src, cv2.COLOR_GRAY2BGR)\n",
    "\n",
    "if circles is not None:\n",
    "    for i in range(circles.shape[1]):\n",
    "        cx, cy, radius = circles[0][i]\n",
    "        cv2.circle(dst, (np.uint32(cx), np.uint32(cy)), np.uint32(radius), (0, 0, 255), 2)\n",
    "        \n",
    "cv2.imshow('src', src)\n",
    "cv2.imshow('dst', dst)\n",
    "cv2.waitKey()\n",
    "cv2.destroyAllWindows()   "
   ]
  }
 ],
 "metadata": {
  "kernelspec": {
   "display_name": "Python 3 (ipykernel)",
   "language": "python",
   "name": "python3"
  },
  "language_info": {
   "codemirror_mode": {
    "name": "ipython",
    "version": 3
   },
   "file_extension": ".py",
   "mimetype": "text/x-python",
   "name": "python",
   "nbconvert_exporter": "python",
   "pygments_lexer": "ipython3",
   "version": "3.9.7"
  }
 },
 "nbformat": 4,
 "nbformat_minor": 5
}
