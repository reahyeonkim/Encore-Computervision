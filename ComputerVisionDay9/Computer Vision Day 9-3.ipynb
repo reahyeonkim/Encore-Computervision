{
 "cells": [
  {
   "cell_type": "markdown",
   "id": "049ae384",
   "metadata": {},
   "source": [
    "# 객체 검출"
   ]
  },
  {
   "cell_type": "code",
   "execution_count": 1,
   "id": "d5b97cfe",
   "metadata": {},
   "outputs": [],
   "source": [
    "import cv2\n",
    "import numpy as np\n",
    "import sys"
   ]
  },
  {
   "cell_type": "markdown",
   "id": "2de61998",
   "metadata": {},
   "source": [
    "### 템플릿 메칭"
   ]
  },
  {
   "cell_type": "code",
   "execution_count": null,
   "id": "780cb52b",
   "metadata": {},
   "outputs": [],
   "source": [
    "image = cv2.imread('./data/circuit.bmp', cv2.IMREAD_COLOR)\n",
    "template = cv2.imread('./data/crystal.bmp', cv2.IMREAD_COLOR)\n",
    "\n",
    "if image is None or template is None:\n",
    "    print(\"Image load failed!\")\n",
    "    sys.exit()\n",
    "    \n",
    "#image = image + (50, 50 , 50)\n",
    "\n",
    "noise = np.zeros(image.shape, image.dtype)\n",
    "cv2.randn(noise, 0, 10)\n",
    "image = cv2.add(image, noise, dtype=cv2.CV_8UC3)\n",
    "\n",
    "res = cv2.matchTemplate(image, template, cv2.TM_CCOEFF_NORMED)\n",
    "res_norm = cv2.normalize(res, None, 0, 255, cv2.NORM_MINMAX, cv2.CV_8U)\n",
    "\n",
    "_, maxv, _, maxLoc= cv2.minMaxLoc(res)\n",
    "print(maxv, maxLoc)\n",
    "\n",
    "th, tw =template.shape[:2]\n",
    "\n",
    "cv2.rectangle(image, maxLoc, (maxLoc[0]+tw, maxLoc[1]+th), (0, 0, 255), 2)\n",
    "\n",
    "cv2.imshow(\"image\", image)\n",
    "cv2.imshow(\"template\", template)\n",
    "cv2.imshow(\"res_norm\", res_norm)\n",
    "cv2.waitKey()\n",
    "cv2.destroyAllWindows()"
   ]
  },
  {
   "cell_type": "markdown",
   "id": "f3bfb9bb",
   "metadata": {},
   "source": [
    "### Workshop (alphabet.bmp)"
   ]
  },
  {
   "cell_type": "code",
   "execution_count": null,
   "id": "d9b21ed6",
   "metadata": {},
   "outputs": [],
   "source": [
    "image = cv2.imread(\"./data/alphabet.bmp\")\n",
    "template = cv2.imread(\"./data/S.bmp\")\n",
    "\n",
    "res = cv2.matchTemplate(image, template, cv2.TM_CCOEFF_NORMED)\n",
    "#res = cv2.matchTemplate(image, template, cv2.TM_CCORR_NORMED)\n",
    "#res = cv2.matchTemplate(image, template, cv2.TM_SQDIFF_NORMED)\n",
    "\n",
    "res_norm = cv2.normalize(res, None, 0, 255, cv2.NORM_MINMAX, cv2.CV_8U)\n",
    "\n",
    "_, maxv, _, maxLoc= cv2.minMaxLoc(res)\n",
    "print(maxv, maxLoc)\n",
    "\n",
    "th, tw =template.shape[:2]\n",
    "\n",
    "cv2.rectangle(image, maxLoc, (maxLoc[0]+tw, maxLoc[1]+th), (0, 0, 255), 2)\n",
    "\n",
    "cv2.imshow(\"image\", image)\n",
    "cv2.imshow(\"template\", template)\n",
    "cv2.imshow(\"res_norm\", res_norm)\n",
    "cv2.waitKey()\n",
    "cv2.destroyAllWindows()"
   ]
  },
  {
   "cell_type": "markdown",
   "id": "2ff6290f",
   "metadata": {},
   "source": [
    "### 캐스케이드 분류기와 얼굴 검출"
   ]
  },
  {
   "cell_type": "markdown",
   "id": "19da4161",
   "metadata": {},
   "source": [
    "haar cascade classifier\n",
    ": https://docs.opencv.org/3.4/db/d28/tutorial_cascade_classifier.html\n",
    "\n",
    "parameters of detector\n",
    ": https://stackoverflow.com/questions/20801015/recommended-values-for-opencv-detectmultiscale-parameters"
   ]
  },
  {
   "cell_type": "markdown",
   "id": "5e9f0f30",
   "metadata": {},
   "source": [
    "#### 얼굴 검출"
   ]
  },
  {
   "cell_type": "code",
   "execution_count": null,
   "id": "3b9aab7f",
   "metadata": {},
   "outputs": [],
   "source": [
    "image = cv2.imread('./data/lena.jpg')\n",
    "gray = cv2.cvtColor(image, cv2.COLOR_BGR2GRAY)\n",
    "\n",
    "# haarcascade_frontalface_default.xml 파일 위치 찾기\n",
    "face_cascade = cv2.CascadeClassifier('./data/haarcascade_frontalface_default.xml')\n",
    "faces = face_cascade.detectMultiScale(gray)\n",
    "\n",
    "for (x, y, w, h) in faces:\n",
    "    cv2.rectangle(image, (x, y), (x+w, y+h), (0, 0, 255), 2)\n",
    "    \n",
    "cv2.imshow('image', image)\n",
    "cv2.waitKey()\n",
    "cv2.destroyAllWindows()"
   ]
  },
  {
   "cell_type": "code",
   "execution_count": null,
   "id": "d68d1708",
   "metadata": {},
   "outputs": [],
   "source": [
    "image = cv2.imread('./data/kids2.png')\n",
    "gray = cv2.cvtColor(image, cv2.COLOR_BGR2GRAY)\n",
    "\n",
    "# haarcascade_frontalface_default.xml 파일 위치 찾기\n",
    "face_cascade = cv2.CascadeClassifier('./data/haarcascade_frontalface_default.xml')\n",
    "faces = face_cascade.detectMultiScale(gray)\n",
    "\n",
    "for (x, y, w, h) in faces:\n",
    "    cv2.rectangle(image, (x, y), (x+w, y+h), (0, 0, 255), 2)\n",
    "    \n",
    "cv2.imshow('image', image)\n",
    "cv2.waitKey()\n",
    "cv2.destroyAllWindows()"
   ]
  },
  {
   "cell_type": "markdown",
   "id": "ee9142ad",
   "metadata": {},
   "source": [
    "#### 눈 검출"
   ]
  },
  {
   "cell_type": "code",
   "execution_count": null,
   "id": "be223494",
   "metadata": {},
   "outputs": [],
   "source": [
    "image = cv2.imread('./data/kids2.png')\n",
    "#gray = cv2.cvtColor(image, cv2.COLOR_BGR2GRAY)\n",
    "\n",
    "face_cascade = cv2.CascadeClassifier('./data/haarcascade_frontalface_default.xml')\n",
    "eye_cascade = cv2.CascadeClassifier('./data/haarcascade_eye.xml')\n",
    "\n",
    "if face_cascade.empty() or eye_cascade.empty():\n",
    "    print(\"XML load failed\")\n",
    "    sys.exit()\n",
    "\n",
    "faces = face_cascade.detectMultiScale(image)\n",
    "\n",
    "\n",
    "\n",
    "for (x1, y1, w1, h1) in faces:\n",
    "    cv2.rectangle(image, (x1, y1), (x1+w1, y1+h1), (0, 0, 255), 2)\n",
    "    face = image[y1: y1+ h1, x1:x1+w1]\n",
    "    eyes = eye_cascade.detectMultiScale(face)\n",
    "\n",
    "    for (x2, y2, w2, h2) in eyes:\n",
    "        center = int(x2 + w2/2), int(y2 + h2/2)\n",
    "        cv2.circle(face, center, int(w2/2), (255, 0, 0), 2, cv2.LINE_AA)\n",
    "    \n",
    "    \n",
    "cv2.imshow('image', image)\n",
    "cv2.waitKey()\n",
    "cv2.destroyAllWindows()\n"
   ]
  },
  {
   "cell_type": "markdown",
   "id": "3abe11a9",
   "metadata": {},
   "source": [
    "#### 가족사진"
   ]
  },
  {
   "cell_type": "code",
   "execution_count": null,
   "id": "33ef26a7",
   "metadata": {},
   "outputs": [],
   "source": [
    "image = cv2.imread('./data/family2.jpg')\n",
    "gray = cv2.cvtColor(image, cv2.COLOR_BGR2GRAY)\n",
    "\n",
    "face_cascade = cv2.CascadeClassifier('./data/haarcascade_frontalface_default.xml')\n",
    "eye_cascade = cv2.CascadeClassifier('./data/haarcascade_eye.xml')\n",
    "\n",
    "if face_cascade.empty() or eye_cascade.empty():\n",
    "    print(\"XML load failed\")\n",
    "    sys.exit()\n",
    "\n",
    "faces = face_cascade.detectMultiScale(gray, 1.05, minSize=(100, 100))\n",
    "\n",
    "\n",
    "\n",
    "for (x1, y1, w1, h1) in faces:\n",
    "    cv2.rectangle(image, (x1, y1), (x1+w1, y1+h1), (0, 0, 255), 2)\n",
    "    face = gray[y1: y1+ h1, x1:x1+w1]\n",
    "    eyes = eye_cascade.detectMultiScale(face, 1.009, 6, maxSize=(30, 30))\n",
    "\n",
    "    for (x2, y2, w2, h2) in eyes:\n",
    "        center = x1 + int(x2 + w2/2), y1 + int(y2 + h2/2)\n",
    "        cv2.circle(image, center, int(w2/2), (255, 0, 0), 2, cv2.LINE_AA)\n",
    "    \n",
    "    \n",
    "cv2.imshow('image', image)\n",
    "cv2.waitKey()\n",
    "cv2.destroyAllWindows()\n"
   ]
  },
  {
   "cell_type": "markdown",
   "id": "913092f1",
   "metadata": {},
   "source": [
    "### multi_faces.jpg"
   ]
  },
  {
   "cell_type": "code",
   "execution_count": null,
   "id": "2426eb1d",
   "metadata": {},
   "outputs": [],
   "source": [
    "import matplotlib.image as mpimg\n",
    "import matplotlib.pyplot as plt"
   ]
  },
  {
   "cell_type": "code",
   "execution_count": null,
   "id": "906b8327",
   "metadata": {},
   "outputs": [],
   "source": [
    "image = mpimg.imread('./data/multi_faces.jpg')\n",
    "gray = cv2.cvtColor(image, cv2.COLOR_BGR2GRAY)\n",
    "\n",
    "face_cascade = cv2.CascadeClassifier('./data/haarcascade_frontalface_default.xml')\n",
    "eye_cascade = cv2.CascadeClassifier('./data/haarcascade_eye.xml')\n",
    "\n",
    "if face_cascade.empty() or eye_cascade.empty():\n",
    "    print(\"XML load failed\")\n",
    "    sys.exit()\n",
    "    \n",
    "#faces = face_cascade.detectMultiScale(gray, minSize=(100, 100), maxSize=(130, 130))\n",
    "faces = face_cascade.detectMultiScale(gray, 1.3, 8)\n",
    "\n",
    "for (x1, y1, w1, h1) in faces:\n",
    "    cv2.rectangle(image, (x1, y1), (x1+w1, y1+h1), (0, 0, 255), 2)\n",
    "    face = gray[y1: y1+ h1, x1:x1+w1]\n",
    "\n",
    "plt.figure(figsize=(20, 10))\n",
    "plt.imshow(image)"
   ]
  },
  {
   "cell_type": "markdown",
   "id": "787969f4",
   "metadata": {},
   "source": [
    "### Workshop : Camera Device로부터 얻은 frame에 대해서 얼굴(눈) 검출하기"
   ]
  },
  {
   "cell_type": "code",
   "execution_count": null,
   "id": "8c137ba2",
   "metadata": {},
   "outputs": [],
   "source": [
    "face_cascade = cv2.CascadeClassifier('./data/haarcascade_frontalface_default.xml')\n",
    "eye_cascade = cv2.CascadeClassifier('./data/haarcascade_eye.xml')\n",
    "\n",
    "if face_cascade.empty() or eye_cascade.empty():\n",
    "    print(\"XML load failed\")\n",
    "    sys.exit()\n",
    "        \n",
    "cap = cv2.VideoCapture(0) # 카메라 디바이스, 동영상 파일명, 스트리밍 주소\n",
    "\n",
    "if not cap.isOpened():\n",
    "    print(\"Camera open failed!!\")\n",
    "    sys.exit()\n",
    "\n",
    "\n",
    "w, h = int(cap.get(cv2.CAP_PROP_FRAME_WIDTH)), int(cap.get(cv2.CAP_PROP_FRAME_HEIGHT))\n",
    "print(\"frame width, height:\", w, h)\n",
    "\n",
    "while True:\n",
    "    ret, frame = cap.read()\n",
    "    \n",
    "    if not ret or frame is None:\n",
    "        print(\"Image Load failed\")\n",
    "        sys.exit()\n",
    "    \n",
    "    gray = cv2.cvtColor(frame, cv2.COLOR_BGR2GRAY)\n",
    "    faces = face_cascade.detectMultiScale(gray, 1.3, 6)\n",
    "        \n",
    "    for (x1, y1, w1, h1) in faces:\n",
    "        cv2.rectangle(frame, (x1, y1), (x1+w1, y1+h1), (0, 0, 255), 2)\n",
    "        face = gray[y1: y1+ h1, x1:x1+w1]\n",
    "        \n",
    "        eyes = eye_cascade.detectMultiScale(face, 1.1, 12)\n",
    "\n",
    "        for (x2, y2, w2, h2) in eyes:\n",
    "            center = x1 + int(x2 + w2/2), y1 + int(y2 + h2/2)\n",
    "            cv2.circle(frame, center, int(w2/2), (255, 0, 0), 2, cv2.LINE_AA)\n",
    "        \n",
    "        \n",
    "    cv2.imshow(\"frame\", frame)\n",
    "\n",
    "    \n",
    "    if cv2.waitKey(10) == 27: #sleep 효과\n",
    "        break\n",
    "\n",
    "if cap.isOpened():\n",
    "    cap.release()\n",
    "\n",
    "cv2.destroyAllWindows()"
   ]
  },
  {
   "cell_type": "markdown",
   "id": "f87e842b",
   "metadata": {},
   "source": [
    "### Workshop : Blurring을 이용하여 얼굴만 가리기"
   ]
  },
  {
   "cell_type": "code",
   "execution_count": 32,
   "id": "c4aa0933",
   "metadata": {},
   "outputs": [
    {
     "name": "stdout",
     "output_type": "stream",
     "text": [
      "frame width, height: 640 480\n"
     ]
    }
   ],
   "source": [
    "face_cascade = cv2.CascadeClassifier('./data/haarcascade_frontalface_default.xml')\n",
    "eye_cascade = cv2.CascadeClassifier('./data/haarcascade_eye.xml')\n",
    "\n",
    "if face_cascade.empty() or eye_cascade.empty():\n",
    "    print(\"XML load failed\")\n",
    "    sys.exit()\n",
    "        \n",
    "cap = cv2.VideoCapture(0) # 카메라 디바이스, 동영상 파일명, 스트리밍 주소\n",
    "\n",
    "if not cap.isOpened():\n",
    "    print(\"Camera open failed!!\")\n",
    "    sys.exit()\n",
    "\n",
    "\n",
    "w, h = int(cap.get(cv2.CAP_PROP_FRAME_WIDTH)), int(cap.get(cv2.CAP_PROP_FRAME_HEIGHT))\n",
    "print(\"frame width, height:\", w, h)\n",
    "\n",
    "while True:\n",
    "    ret, frame = cap.read()\n",
    "    \n",
    "    if not ret or frame is None:\n",
    "        print(\"Image Load failed\")\n",
    "        sys.exit()\n",
    "    \n",
    "    gray = cv2.cvtColor(frame, cv2.COLOR_BGR2GRAY)\n",
    "    faces = face_cascade.detectMultiScale(gray, 1.3, 6)\n",
    "        \n",
    "    for (x1, y1, w1, h1) in faces:\n",
    "        cv2.rectangle(frame, (x1, y1), (x1+w1, y1+h1), (0, 0, 255), 2)\n",
    "       \n",
    "        # 검출된 face에 대해 blurring\n",
    "        frame[y1:y1+h1,x1:x1+w1] = cv2.blur(frame[y1:y1+h1,x1:x1+w1], (100,100))\n",
    "        \n",
    "    cv2.imshow(\"frame\", frame)\n",
    "\n",
    "    \n",
    "    if cv2.waitKey(10) == 27: #sleep 효과\n",
    "        break\n",
    "\n",
    "if cap.isOpened():\n",
    "    cap.release()\n",
    "\n",
    "cv2.destroyAllWindows()"
   ]
  },
  {
   "cell_type": "markdown",
   "id": "44aaa4ec",
   "metadata": {},
   "source": [
    "### HOG 알고리즘과 보행자 검출"
   ]
  },
  {
   "cell_type": "markdown",
   "id": "d6daa9d3",
   "metadata": {},
   "source": [
    "#### people1.png (using opencv)"
   ]
  },
  {
   "cell_type": "code",
   "execution_count": 41,
   "id": "242b7258",
   "metadata": {},
   "outputs": [
    {
     "data": {
      "text/plain": [
       "array([0.01308054, 0.00584509, 0.04909251, ..., 0.04155609, 0.02162938,\n",
       "       0.08109097], dtype=float32)"
      ]
     },
     "execution_count": 41,
     "metadata": {},
     "output_type": "execute_result"
    }
   ],
   "source": [
    "src = cv2.imread('./data/people1.png')\n",
    "\n",
    "hog = cv2.HOGDescriptor()\n",
    "\n",
    "hog_descriptor = hog.compute(src)\n",
    "hog_descriptor"
   ]
  },
  {
   "cell_type": "code",
   "execution_count": 42,
   "id": "9ec3bd26",
   "metadata": {},
   "outputs": [
    {
     "data": {
      "text/plain": [
       "(3780,)"
      ]
     },
     "execution_count": 42,
     "metadata": {},
     "output_type": "execute_result"
    }
   ],
   "source": [
    "hog_descriptor.shape"
   ]
  },
  {
   "cell_type": "code",
   "execution_count": 43,
   "id": "0cfb5ac2",
   "metadata": {},
   "outputs": [
    {
     "data": {
      "text/plain": [
       "array([0.01534021, 0.00718543, 0.06149196, ..., 0.02672758, 0.02497322,\n",
       "       0.07103331], dtype=float32)"
      ]
     },
     "execution_count": 43,
     "metadata": {},
     "output_type": "execute_result"
    }
   ],
   "source": [
    "# https://docs.opencv.org/4.x/d5/d33/structcv_1_1HOGDescriptor.html#a723b95b709cfd3f95cf9e616de988fc8\n",
    "src = cv2.imread('./data/people1.png')\n",
    "win_size = (src.shape[1], src.shape[0])\n",
    "block_size = (16, 16)\n",
    "block_stride = (8, 8)\n",
    "cell_size = (8, 8)\n",
    "nbins = 9\n",
    "\n",
    "hog = cv2.HOGDescriptor(win_size, block_size, block_stride, cell_size, nbins)\n",
    "\n",
    "hog_descriptor = hog.compute(src)\n",
    "hog_descriptor"
   ]
  },
  {
   "cell_type": "code",
   "execution_count": 44,
   "id": "1e99b10e",
   "metadata": {},
   "outputs": [
    {
     "data": {
      "text/plain": [
       "(3780,)"
      ]
     },
     "execution_count": 44,
     "metadata": {},
     "output_type": "execute_result"
    }
   ],
   "source": [
    "hog_descriptor.shape"
   ]
  },
  {
   "cell_type": "markdown",
   "id": "4240d89d",
   "metadata": {},
   "source": [
    "#### vtest.avi"
   ]
  },
  {
   "cell_type": "code",
   "execution_count": 48,
   "id": "27e7336c",
   "metadata": {},
   "outputs": [
    {
     "name": "stdout",
     "output_type": "stream",
     "text": [
      "frame width, height: 768 576\n"
     ]
    }
   ],
   "source": [
    "cap = cv2.VideoCapture(\"./data/vtest.avi\") # 카메라 디바이스, 동영상 파일명, 스트리밍 주소\n",
    "\n",
    "if not cap.isOpened():\n",
    "    print(\"Camera open failed!!\")\n",
    "    sys.exit()\n",
    "\n",
    "\n",
    "w, h = int(cap.get(cv2.CAP_PROP_FRAME_WIDTH)), int(cap.get(cv2.CAP_PROP_FRAME_HEIGHT))\n",
    "print(\"frame width, height:\", w, h)\n",
    "\n",
    "hog = cv2.HOGDescriptor()\n",
    "hog.setSVMDetector(cv2.HOGDescriptor_getDefaultPeopleDetector())\n",
    "\n",
    "\n",
    "while True:\n",
    "    ret, frame = cap.read()\n",
    "    \n",
    "    if not ret or frame is None:\n",
    "        print(\"Image Load failed\")\n",
    "        sys.exit()\n",
    "    \n",
    "    detected, ret = hog.detectMultiScale(frame)\n",
    "    for (x, y, w, h) in detected:\n",
    "        b = np.random.randint(0, 255)\n",
    "        g = np.random.randint(0, 255)\n",
    "        r  = np.random.randint(0, 255)\n",
    "        cv2.rectangle(frame, (x, y), ((x+w), (y+h)), (b, g, r), 3)\n",
    "        \n",
    "    cv2.imshow(\"frame\", frame)\n",
    "\n",
    "    \n",
    "    if cv2.waitKey(10) == 27: #sleep 효과\n",
    "        break\n",
    "\n",
    "if cap.isOpened():\n",
    "    cap.release()\n",
    "\n",
    "cv2.destroyAllWindows()"
   ]
  },
  {
   "cell_type": "markdown",
   "id": "7735dd9c",
   "metadata": {},
   "source": [
    "#### people1.png (using skimage)"
   ]
  },
  {
   "cell_type": "code",
   "execution_count": 61,
   "id": "7036ff21",
   "metadata": {},
   "outputs": [
    {
     "data": {
      "text/plain": [
       "<matplotlib.image.AxesImage at 0x21582541370>"
      ]
     },
     "execution_count": 61,
     "metadata": {},
     "output_type": "execute_result"
    },
    {
     "data": {
      "image/png": "[encoded data removed]",
      "text/plain": [
       "<Figure size 432x288 with 2 Axes>"
      ]
     },
     "metadata": {
      "needs_background": "light"
     },
     "output_type": "display_data"
    }
   ],
   "source": [
    "from skimage.feature import hog\n",
    "\n",
    "src = cv2.imread('./data/people1.png')\n",
    "\n",
    "hog_feature, hog_image = hog(src, orientations=9, pixels_per_cell=(8, 8),\n",
    "                            cells_per_block=(2,2), \n",
    "                            block_norm='L2-Hys', transform_sqrt=False, \n",
    "                            visualize=True, feature_vector=True)\n",
    "\n",
    "fig = plt.figure()\n",
    "plt.subplot(121)\n",
    "plt.imshow(src)\n",
    "\n",
    "plt.subplot(122)\n",
    "plt.imshow(hog_image, cmap=\"gray\")"
   ]
  },
  {
   "cell_type": "code",
   "execution_count": 62,
   "id": "4f98b4ad",
   "metadata": {},
   "outputs": [
    {
     "data": {
      "text/plain": [
       "array([0.10799501, 0.00536632, 0.05636588, ..., 0.        , 0.        ,\n",
       "       0.02682355])"
      ]
     },
     "execution_count": 62,
     "metadata": {},
     "output_type": "execute_result"
    }
   ],
   "source": [
    "hog_feature"
   ]
  },
  {
   "cell_type": "code",
   "execution_count": null,
   "id": "b3f8a815",
   "metadata": {},
   "outputs": [],
   "source": []
  }
 ],
 "metadata": {
  "kernelspec": {
   "display_name": "Python 3 (ipykernel)",
   "language": "python",
   "name": "python3"
  },
  "language_info": {
   "codemirror_mode": {
    "name": "ipython",
    "version": 3
   },
   "file_extension": ".py",
   "mimetype": "text/x-python",
   "name": "python",
   "nbconvert_exporter": "python",
   "pygments_lexer": "ipython3",
   "version": "3.9.7"
  }
 },
 "nbformat": 4,
 "nbformat_minor": 5
}
