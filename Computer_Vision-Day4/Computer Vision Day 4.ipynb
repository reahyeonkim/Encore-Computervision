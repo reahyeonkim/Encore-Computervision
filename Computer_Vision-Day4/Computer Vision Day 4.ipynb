{
 "cells": [
  {
   "cell_type": "markdown",
   "id": "723ad0a3",
   "metadata": {},
   "source": [
    "# 영상의 필터링"
   ]
  },
  {
   "cell_type": "code",
   "execution_count": 2,
   "id": "2730f21a",
   "metadata": {},
   "outputs": [],
   "source": [
    "import numpy as np\n",
    "import cv2\n",
    "import sys"
   ]
  },
  {
   "cell_type": "markdown",
   "id": "1cb89bf9",
   "metadata": {},
   "source": [
    "### 엠보싱 필터"
   ]
  },
  {
   "cell_type": "code",
   "execution_count": 9,
   "id": "c96a5bb6",
   "metadata": {},
   "outputs": [],
   "source": [
    "src = cv2.imread('./data/rose.bmp', cv2.IMREAD_GRAYSCALE)\n",
    "\n",
    "emboss = np.array([[-1, -1, 0],\n",
    "                   [-1, 0, 1],\n",
    "                   [0, 1, 1]\n",
    "                  ], np.float32)\n",
    "\n",
    "dst = cv2.filter2D(src, -1, emboss, delta=128)\n",
    "\n",
    "cv2.imshow('src', src)\n",
    "cv2.imshow('dst', dst)\n",
    "cv2.waitKey()\n",
    "cv2.destroyAllWindows()"
   ]
  },
  {
   "cell_type": "markdown",
   "id": "7b9f8811",
   "metadata": {},
   "source": [
    "# 영상의 블러링"
   ]
  },
  {
   "cell_type": "markdown",
   "id": "9d054f1c",
   "metadata": {},
   "source": [
    "### 평균값 필터 "
   ]
  },
  {
   "cell_type": "code",
   "execution_count": 14,
   "id": "55c8db5c",
   "metadata": {},
   "outputs": [],
   "source": [
    "src = cv2.imread('./data/rose.bmp', cv2.IMREAD_GRAYSCALE)\n",
    "\n",
    "blur3 = np.array([[1, 1, 1],\n",
    "                   [1, 1, 1],\n",
    "                   [1, 1, 1]\n",
    "                  ], np.float32) * 1/9\n",
    "\n",
    "blur5 = np.array([[1, 1, 1, 1, 1],\n",
    "                   [1, 1, 1, 1, 1],\n",
    "                   [1, 1, 1, 1, 1],\n",
    "                   [1, 1, 1, 1, 1],\n",
    "                   [1, 1, 1, 1, 1]\n",
    "                  ], np.float32) * 1/25\n",
    "\n",
    "dst3 = cv2.filter2D(src, -1, blur3)\n",
    "dst5 = cv2.filter2D(src, -1, blur5)\n",
    "\n",
    "cv2.imshow('src', src)\n",
    "cv2.imshow('dst3', dst3)\n",
    "cv2.imshow('dst5', dst5)\n",
    "cv2.waitKey()\n",
    "cv2.destroyAllWindows()"
   ]
  },
  {
   "cell_type": "code",
   "execution_count": 18,
   "id": "5d2c5353",
   "metadata": {},
   "outputs": [],
   "source": [
    "src = cv2.imread('./data/rose.bmp', cv2.IMREAD_GRAYSCALE)\n",
    "\n",
    "cv2.imshow('src', src)\n",
    "\n",
    "for ksize in (3, 5, 7):\n",
    "    dst = cv2.blur(src, (ksize, ksize))\n",
    "    desc = \"Mean : %d x %d\" % (ksize, ksize)\n",
    "    cv2.putText(dst, desc, (10, 30), cv2.FONT_HERSHEY_SIMPLEX, 1.0, 255, 1, cv2.LINE_AA)\n",
    "    cv2.imshow('dst', dst)\n",
    "    cv2.waitKey()\n",
    "\n",
    "cv2.destroyAllWindows()"
   ]
  },
  {
   "cell_type": "markdown",
   "id": "1c7e01c0",
   "metadata": {},
   "source": [
    "### 가우시안 필터"
   ]
  },
  {
   "cell_type": "code",
   "execution_count": 21,
   "id": "e2cccfc6",
   "metadata": {},
   "outputs": [],
   "source": [
    "src = cv2.imread('./data/rose.bmp', cv2.IMREAD_GRAYSCALE)\n",
    "\n",
    "cv2.imshow('src', src)\n",
    "\n",
    "for sigma in range(1, 6):\n",
    "    dst = cv2.GaussianBlur(src, (0, 0), sigma)    \n",
    "    desc = \"Gaussian : sigma %d\" % (sigma)\n",
    "    cv2.putText(dst, desc, (10, 30), cv2.FONT_HERSHEY_SIMPLEX, 1.0, 255, 1, cv2.LINE_AA)\n",
    "    cv2.imshow('dst', dst)\n",
    "    cv2.waitKey()\n",
    "\n",
    "cv2.destroyAllWindows()\n"
   ]
  },
  {
   "cell_type": "markdown",
   "id": "aa8e5abe",
   "metadata": {},
   "source": [
    "# 샤프닝 (영상 날카롭게 하기)"
   ]
  },
  {
   "cell_type": "markdown",
   "id": "6ec55a80",
   "metadata": {},
   "source": [
    "### 언샤프 마스크 필터"
   ]
  },
  {
   "cell_type": "code",
   "execution_count": 25,
   "id": "d5c7b64f",
   "metadata": {},
   "outputs": [],
   "source": [
    "src = cv2.imread('./data/rose.bmp', cv2.IMREAD_GRAYSCALE)\n",
    "\n",
    "cv2.imshow('src', src)\n",
    "\n",
    "for sigma in range(1, 6):\n",
    "    blurred = cv2.GaussianBlur(src, (0, 0), sigma)    \n",
    "    alpha = 1.0\n",
    "    dst = cv2.addWeighted(src, 1+alpha, blurred, -alpha, 0.0)\n",
    "    \n",
    "    desc = \"Gaussian : sigma %d\" % (sigma)\n",
    "    cv2.putText(dst, desc, (10, 30), cv2.FONT_HERSHEY_SIMPLEX, 1.0, 255, 1, cv2.LINE_AA)\n",
    "    cv2.imshow('dst', dst)\n",
    "    cv2.waitKey()\n",
    "\n",
    "cv2.destroyAllWindows()"
   ]
  },
  {
   "cell_type": "markdown",
   "id": "3111cf2e",
   "metadata": {},
   "source": [
    "# 잡음 제거 필터링 "
   ]
  },
  {
   "cell_type": "code",
   "execution_count": 35,
   "id": "f4a5a4b1",
   "metadata": {},
   "outputs": [
    {
     "data": {
      "text/plain": [
       "((512, 512), (512, 512))"
      ]
     },
     "execution_count": 35,
     "metadata": {},
     "output_type": "execute_result"
    }
   ],
   "source": [
    "src.shape, noise.shape"
   ]
  },
  {
   "cell_type": "code",
   "execution_count": 42,
   "id": "e5d317a5",
   "metadata": {},
   "outputs": [],
   "source": [
    "src = cv2.imread('./data/lenna.bmp', cv2.IMREAD_GRAYSCALE)\n",
    "\n",
    "cv2.imshow('src', src)\n",
    "\n",
    "for stddev in [10, 20, 30]:\n",
    "    noise = np.zeros(src.shape, np.int32)\n",
    "    cv2.randn(noise, 0, stddev)\n",
    "\n",
    "    dst = cv2.add(src, noise, dtype = cv2.CV_8UC1)\n",
    "    desc = \"stddev : %d\" % (stddev)\n",
    "    cv2.putText(dst, desc, (10, 30), cv2.FONT_HERSHEY_SIMPLEX, 1.0, 255, 1, cv2.LINE_AA)\n",
    "    \n",
    "    cv2.imshow('dst', dst)\n",
    "    cv2.waitKey()\n",
    "\n",
    "cv2.destroyAllWindows()"
   ]
  },
  {
   "cell_type": "markdown",
   "id": "37ac6e3b",
   "metadata": {},
   "source": [
    "### 양방향 필터"
   ]
  },
  {
   "cell_type": "code",
   "execution_count": 60,
   "id": "4ee95145",
   "metadata": {},
   "outputs": [],
   "source": [
    "src = cv2.imread('./data/lenna.bmp', cv2.IMREAD_GRAYSCALE)\n",
    "\n",
    "noise = np.zeros(src.shape, np.int32)\n",
    "cv2.randn(noise, 0, 5)\n",
    "dst = cv2.add(src, noise, dtype = cv2.CV_8UC1)\n",
    "\n",
    "dst_gaussian = cv2.GaussianBlur(dst, (0, 0), 5)\n",
    "dst_bilateral = cv2.bilateralFilter(dst, -1, 10, 5)\n",
    "\n",
    "cv2.imshow('src', src)\n",
    "cv2.imshow('dst', dst)\n",
    "cv2.imshow('dst_gaussian', dst_gaussian)\n",
    "cv2.imshow('dst_bilateral', dst_bilateral)\n",
    "cv2.waitKey()\n",
    "\n",
    "cv2.destroyAllWindows()"
   ]
  },
  {
   "cell_type": "code",
   "execution_count": 66,
   "id": "765e6e8e",
   "metadata": {},
   "outputs": [],
   "source": [
    "import random\n",
    "src = cv2.imread('./data/lenna.bmp', cv2.IMREAD_GRAYSCALE)\n",
    "\n",
    "# salt& pepper noise 생성 (전체 이미지의 1/10)\n",
    "for i in range(0, int(src.size/10)):\n",
    "    x = random.randint(0, src.shape[1] - 1)\n",
    "    y = random.randint(0, src.shape[0] - 1)\n",
    "    src[x, y] = (i % 2) * 255\n",
    "\n",
    "gaussian_blur = cv2.GaussianBlur(src, (0, 0), 1)\n",
    "medial_blur =cv2.medianBlur(src, 3)\n",
    "\n",
    "cv2.imshow('src', src)\n",
    "cv2.imshow('gaussian_blur', gaussian_blur)\n",
    "cv2.imshow('medial_blur', medial_blur)\n",
    "cv2.waitKey()\n",
    "cv2.destroyAllWindows()"
   ]
  },
  {
   "cell_type": "markdown",
   "id": "2cc898e4",
   "metadata": {},
   "source": [
    "# 영상의 기하학적 변환"
   ]
  },
  {
   "cell_type": "markdown",
   "id": "f64887e9",
   "metadata": {},
   "source": [
    "### 참고 (행렬의 곱)"
   ]
  },
  {
   "cell_type": "code",
   "execution_count": 70,
   "id": "90d6c8dc",
   "metadata": {},
   "outputs": [
    {
     "name": "stdout",
     "output_type": "stream",
     "text": [
      "[[ 0  1  2]\n",
      " [ 3  4  5]\n",
      " [ 6  7  8]\n",
      " [ 9 10 11]]\n",
      "\n",
      "[[ 0  1  2  3]\n",
      " [ 4  5  6  7]\n",
      " [ 8  9 10 11]]\n"
     ]
    }
   ],
   "source": [
    "a = np.arange(12).reshape(4, 3)\n",
    "b = np.arange(12).reshape(3, 4)\n",
    "print(a)\n",
    "print()\n",
    "print(b)"
   ]
  },
  {
   "cell_type": "code",
   "execution_count": 68,
   "id": "dc9f3927",
   "metadata": {},
   "outputs": [
    {
     "data": {
      "text/plain": [
       "array([[ 20,  23,  26,  29],\n",
       "       [ 56,  68,  80,  92],\n",
       "       [ 92, 113, 134, 155],\n",
       "       [128, 158, 188, 218]])"
      ]
     },
     "execution_count": 68,
     "metadata": {},
     "output_type": "execute_result"
    }
   ],
   "source": [
    "np.dot(a, b)"
   ]
  },
  {
   "cell_type": "markdown",
   "id": "3956c093",
   "metadata": {},
   "source": [
    "### 어파인 변환 "
   ]
  },
  {
   "cell_type": "code",
   "execution_count": 72,
   "id": "cb363def",
   "metadata": {},
   "outputs": [],
   "source": [
    "src = cv2.imread('./data/tekapo.bmp')\n",
    "\n",
    "rows = src.shape[0] # height\n",
    "cols = src.shape[1] # width\n",
    "\n",
    "src_pts = np.array([[0,0], [cols-1, 0], [cols-1, rows-1]]).astype(np.float32)\n",
    "\n",
    "dst_pts = np.array([[50, 50], [cols-100, 100], [cols-50, rows-50]]).astype(np.float32)\n",
    "\n",
    "M = cv2.getAffineTransform(src_pts, dst_pts )\n",
    "dst = cv2.warpAffine(src, M, (0, 0))\n",
    "\n",
    "cv2.imshow('src', src)\n",
    "cv2.imshow('dst', dst)\n",
    "cv2.waitKey()\n",
    "cv2.destroyAllWindows()"
   ]
  },
  {
   "cell_type": "markdown",
   "id": "7aad8f2f",
   "metadata": {},
   "source": [
    "### 이동변환"
   ]
  },
  {
   "cell_type": "code",
   "execution_count": 74,
   "id": "0636cf52",
   "metadata": {},
   "outputs": [],
   "source": [
    "src = cv2.imread('./data/tekapo.bmp')\n",
    "\n",
    "a = 150\n",
    "b = 100\n",
    "\n",
    "M = np.array([[1, 0, a],\n",
    "              [0, 1, b]], dtype=np.float32)\n",
    "\n",
    "dst = cv2.warpAffine(src, M, (0, 0))\n",
    "\n",
    "cv2.imshow('src', src)\n",
    "cv2.imshow('dst', dst)\n",
    "cv2.waitKey()\n",
    "cv2.destroyAllWindows()"
   ]
  },
  {
   "cell_type": "markdown",
   "id": "aaefe34f",
   "metadata": {},
   "source": [
    "### 전단 변환 "
   ]
  },
  {
   "cell_type": "code",
   "execution_count": 77,
   "id": "75f0f636",
   "metadata": {},
   "outputs": [],
   "source": [
    "src = cv2.imread('./data/tekapo.bmp')\n",
    "\n",
    "# y축을 고정시키고 x값을 밀어 변환\n",
    "\n",
    "rows = src.shape[0]\n",
    "cols = src.shape[1]\n",
    "\n",
    "mx = 0.3\n",
    "\n",
    "M = np.array([[1, mx, 0],\n",
    "              [0, 1, 0]], dtype=np.float32)\n",
    "\n",
    "dst = cv2.warpAffine(src, M, (int(cols + rows*mx), rows))\n",
    "\n",
    "cv2.imshow('src', src)\n",
    "cv2.imshow('dst', dst)\n",
    "cv2.waitKey()\n",
    "cv2.destroyAllWindows()"
   ]
  },
  {
   "cell_type": "markdown",
   "id": "9abc874f",
   "metadata": {},
   "source": [
    "### 크기 변환"
   ]
  },
  {
   "cell_type": "code",
   "execution_count": 79,
   "id": "23ec1b1b",
   "metadata": {},
   "outputs": [],
   "source": [
    "src = cv2.imread('./data/rose.bmp')\n",
    "\n",
    "rows = src.shape[0]\n",
    "cols = src.shape[1]\n",
    "\n",
    "sx = 2\n",
    "sy = 2\n",
    "\n",
    "\n",
    "M = np.array([[sx, 0, 0],\n",
    "              [0, sy, 0]], dtype=np.float32)\n",
    "\n",
    "dst = cv2.warpAffine(src, M, (int(cols*sx), int(rows*sy)))\n",
    "\n",
    "cv2.imshow('src', src)\n",
    "cv2.imshow('dst', dst)\n",
    "cv2.waitKey()\n",
    "cv2.destroyAllWindows()"
   ]
  },
  {
   "cell_type": "code",
   "execution_count": 80,
   "id": "c3d09bdd",
   "metadata": {},
   "outputs": [
    {
     "data": {
      "text/plain": [
       "(320, 480, 3)"
      ]
     },
     "execution_count": 80,
     "metadata": {},
     "output_type": "execute_result"
    }
   ],
   "source": [
    "src.shape"
   ]
  },
  {
   "cell_type": "code",
   "execution_count": 87,
   "id": "34a1a5c1",
   "metadata": {},
   "outputs": [],
   "source": [
    "src = cv2.imread('./data/rose.bmp')\n",
    "\n",
    "dst1 = cv2.resize(src, (1920, 1280))\n",
    "dst2 = cv2.resize(src, (0, 0), fx=4, fy=4)\n",
    "dst3 = cv2.resize(src, (1920, 1280), interpolation=cv2.INTER_CUBIC)\n",
    "dst4 = cv2.resize(src, (1920, 1280), interpolation=cv2.INTER_LANCZOS4)\n",
    "\n",
    "cv2.imshow('src', src)\n",
    "cv2.imshow('dst1', dst1[400:800, 500:900])\n",
    "cv2.imshow('dst2', dst2[400:800, 500:900])\n",
    "cv2.imshow('dst3', dst3[400:800, 500:900])\n",
    "cv2.imshow('dst4', dst4[400:800, 500:900])\n",
    "cv2.waitKey()\n",
    "cv2.destroyAllWindows()"
   ]
  },
  {
   "cell_type": "code",
   "execution_count": null,
   "id": "1dab25d5",
   "metadata": {},
   "outputs": [],
   "source": []
  },
  {
   "cell_type": "code",
   "execution_count": null,
   "id": "398daf3e",
   "metadata": {},
   "outputs": [],
   "source": []
  },
  {
   "cell_type": "code",
   "execution_count": null,
   "id": "a0b4e749",
   "metadata": {},
   "outputs": [],
   "source": []
  },
  {
   "cell_type": "code",
   "execution_count": null,
   "id": "d0a0ea86",
   "metadata": {},
   "outputs": [],
   "source": []
  }
 ],
 "metadata": {
  "kernelspec": {
   "display_name": "Python 3 (ipykernel)",
   "language": "python",
   "name": "python3"
  },
  "language_info": {
   "codemirror_mode": {
    "name": "ipython",
    "version": 3
   },
   "file_extension": ".py",
   "mimetype": "text/x-python",
   "name": "python",
   "nbconvert_exporter": "python",
   "pygments_lexer": "ipython3",
   "version": "3.9.7"
  }
 },
 "nbformat": 4,
 "nbformat_minor": 5
}
