{
 "cells": [
  {
   "cell_type": "markdown",
   "id": "e6da92e1",
   "metadata": {},
   "source": [
    "# 동영상 파일 다루기"
   ]
  },
  {
   "cell_type": "code",
   "execution_count": 3,
   "id": "a8f9a062",
   "metadata": {},
   "outputs": [],
   "source": [
    "import cv2\n",
    "import sys"
   ]
  },
  {
   "cell_type": "markdown",
   "id": "53e765fd",
   "metadata": {},
   "source": [
    "### 드로이드캠 영상"
   ]
  },
  {
   "cell_type": "markdown",
   "id": "bf8ced87",
   "metadata": {},
   "source": [
    "안드로이드 스마트폰 앱 중 DroidCam을 이용하면 스마트폰 카메라에서 촬영한 영상을 소켓 통신을 통해 보내고 받을 수 있다.\n",
    "- 사용 순서\n",
    "1. 플레이스토어에서 DroidCam 설치\n",
    "2. 스마트폰에서 DroidCam 앱을 실행하고 와이파이 IP, 포트 번호, 'mpegfeed'를 사용해 VideoCapture 객체 cap을 생성(http://IP:port/mjpegfeed')\n",
    "3. 와이파이 IP, 포트 번호는 스마트폰 및 와이파이 환경에 따라 다르고, 'mjpegfeed' 문자열은 앱에 따라 다를 수 있음.\n",
    "아이폰의 경우 (http://IP:port/video')"
   ]
  },
  {
   "cell_type": "code",
   "execution_count": 10,
   "id": "f79c5eef",
   "metadata": {},
   "outputs": [
    {
     "data": {
      "text/plain": [
       "'C:\\\\Users\\\\Playdata\\\\Documents\\\\Computer Vision\\\\reference'"
      ]
     },
     "execution_count": 10,
     "metadata": {},
     "output_type": "execute_result"
    }
   ],
   "source": [
    "%pwd"
   ]
  },
  {
   "cell_type": "code",
   "execution_count": 9,
   "id": "e3d05b85",
   "metadata": {},
   "outputs": [
    {
     "name": "stdout",
     "output_type": "stream",
     "text": [
      "frame width, height: 640 480\n"
     ]
    }
   ],
   "source": [
    "cap = cv2.VideoCapture('http://192.168.90.24:4747/mjpegfeed') # 카메라 디바이스, 동영상 파일명, 스트리밍 주소\n",
    "\n",
    "if not cap.isOpened():\n",
    "    print(\"Camera open failed!!\")\n",
    "    sys.exit()\n",
    "\n",
    "\n",
    "w, h = int(cap.get(cv2.CAP_PROP_FRAME_WIDTH)), int(cap.get(cv2.CAP_PROP_FRAME_HEIGHT))\n",
    "fps = cap.get(cv2.CAP_PROP_FPS)\n",
    "\n",
    "print(\"frame width, height:\", w, h)\n",
    "\n",
    "fourcc = cv2.VideoWriter_fourcc(*\"DIVX\")\n",
    "outputVideo1 = cv2.VideoWriter('./out/droid_frame.avi', fourcc, fps, (w, h))\n",
    "outputVideo2 = cv2.VideoWriter('./out/droid_inverse.avi', fourcc, fps, (w, h))\n",
    "\n",
    "while True:\n",
    "    ret, frame = cap.read()\n",
    "    \n",
    "    if not ret:\n",
    "        break\n",
    "    \n",
    "    inversed = ~frame\n",
    "    \n",
    "    outputVideo1.write(frame)\n",
    "    outputVideo2.write(inversed)\n",
    "    \n",
    "    cv2.imshow(\"frame\", frame)\n",
    "    cv2.imshow(\"inversed\", inversed)\n",
    "    \n",
    "    if cv2.waitKey(10) == 27: #sleep 효과\n",
    "        break\n",
    "\n",
    "if cap.isOpened():\n",
    "    cap.release()\n",
    "    \n",
    "outputVideo1.release()\n",
    "outputVideo2.release()\n",
    "cv2.destroyAllWindows()"
   ]
  },
  {
   "cell_type": "markdown",
   "id": "2a0f0f8a",
   "metadata": {},
   "source": [
    "### 유튜브 영상"
   ]
  },
  {
   "cell_type": "markdown",
   "id": "7ce584da",
   "metadata": {},
   "source": [
    "pafy : 비디오에서 메타데이터 획득, 비디오/오디오를 다운로드 하는 패키지\n",
    "youtube_dl : patfy의 backend에서 유튜브 동영상을 다운로드\n",
    "\n",
    "설치방법\n",
    "pip install pafy\n",
    "pip install youtube_dl"
   ]
  },
  {
   "cell_type": "code",
   "execution_count": 5,
   "id": "d4ffa0db",
   "metadata": {},
   "outputs": [
    {
     "name": "stdout",
     "output_type": "stream",
     "text": [
      "title: BTS - \"Permission to Dance\" performed at the United Nations General Assembly | SDGs | Official Video\n",
      "rating: None\n",
      "duration: 00:03:43\n"
     ]
    }
   ],
   "source": [
    "import pafy\n",
    "\n",
    "url = 'https://www.youtube.com/watch?v=9SmQOZWNyWE&list=RD9SmQOZWNyWE&index=1'\n",
    "\n",
    "video = pafy.new(url)\n",
    "print(\"title:\", video.title)\n",
    "print(\"rating:\", video.rating)\n",
    "print(\"duration:\", video.duration)\n",
    "\n",
    "best = video.getbest()\n",
    "# best.url : download 가능한 url\n",
    "# best.resolution : video의 해상도"
   ]
  },
  {
   "cell_type": "code",
   "execution_count": 9,
   "id": "673ac6b3",
   "metadata": {},
   "outputs": [
    {
     "data": {
      "text/plain": [
       "'https://rr5---sn-ab02a0nfpgxapox-jwws.googlevideo.com/videoplayback?expire=1641279979&ei=i53TYYimHaiRvcAPytGWiAQ&ip=112.220.17.226&id=o-ACAcwwEKI-N3p-B_CO8_0G45U7F-LrYzFKhmR5lcquQP&itag=18&source=youtube&requiressl=yes&mh=e9&mm=31%2C26&mn=sn-ab02a0nfpgxapox-jwws%2Csn-o097znz7&ms=au%2Conr&mv=m&mvi=5&pl=24&initcwndbps=472500&vprv=1&mime=video%2Fmp4&ns=d3t95BJC3u3y4sNfS22RkKUG&gir=yes&clen=19255716&ratebypass=yes&dur=223.445&lmt=1632650578912066&mt=1641258061&fvip=5&fexp=24001373%2C24007246&c=WEB&txp=5530434&n=xd87H6e0UHZEXTHb&sparams=expire%2Cei%2Cip%2Cid%2Citag%2Csource%2Crequiressl%2Cvprv%2Cmime%2Cns%2Cgir%2Cclen%2Cratebypass%2Cdur%2Clmt&sig=AOq0QJ8wRgIhALMisAkX4P-vlvm9Mn7Hw5qiZjRXxmcHtDlLgxoXSxv2AiEA4J5vC63bfOdZW_FBUbiGVFdIn5B03MkxlVV3g97kQMU%3D&lsparams=mh%2Cmm%2Cmn%2Cms%2Cmv%2Cmvi%2Cpl%2Cinitcwndbps&lsig=AG3C_xAwRQIhAJAWNJEqvp9p35Hu8I7s3pF7GwottMJq9KID-0_6U9mzAiAERHEIsgJ-DXXLiYkjMyHjdBRyMGF-4e7gGz_TS_LFsQ%3D%3D'"
      ]
     },
     "execution_count": 9,
     "metadata": {},
     "output_type": "execute_result"
    }
   ],
   "source": [
    "best.url"
   ]
  },
  {
   "cell_type": "code",
   "execution_count": 24,
   "id": "fe341dd9",
   "metadata": {},
   "outputs": [
    {
     "name": "stdout",
     "output_type": "stream",
     "text": [
      "frame width, height: 640 360\n"
     ]
    }
   ],
   "source": [
    "cap = cv2.VideoCapture(best.url) # 카메라 디바이스, 동영상 파일명, 스트리밍 주소\n",
    "\n",
    "if not cap.isOpened():\n",
    "    print(\"Camera open failed!!\")\n",
    "    sys.exit()\n",
    "\n",
    "\n",
    "w, h = int(cap.get(cv2.CAP_PROP_FRAME_WIDTH)), int(cap.get(cv2.CAP_PROP_FRAME_HEIGHT))\n",
    "fps = cap.get(cv2.CAP_PROP_FPS)\n",
    "\n",
    "print(\"frame width, height:\", w, h)\n",
    "\n",
    "fourcc = cv2.VideoWriter_fourcc(*\"DIVX\")\n",
    "outputVideo1 = cv2.VideoWriter('./out/youtube_frame.avi', fourcc, fps, (w, h))\n",
    "outputVideo2 = cv2.VideoWriter('./out/youtube_edge.avi', fourcc, fps, (w, h), isColor=False)\n",
    "\n",
    "delay = round(1000/fps)\n",
    "while True:\n",
    "    ret, frame = cap.read()\n",
    "    \n",
    "    if not ret:\n",
    "        break\n",
    "    \n",
    "    #inversed = ~frame\n",
    "    \n",
    "    gray = cv2.cvtColor(frame, cv2.COLOR_BGR2GRAY)\n",
    "    edge = cv2.Canny(gray, 100, 200)\n",
    "    \n",
    "    outputVideo1.write(frame)\n",
    "    outputVideo2.write(edge)\n",
    "    \n",
    "    cv2.imshow(\"frame\", frame)\n",
    "    cv2.imshow(\"edge\", edge)\n",
    "    \n",
    "    if cv2.waitKey(delay) == 27: #sleep 효과\n",
    "        break\n",
    "\n",
    "if cap.isOpened():\n",
    "    cap.release()\n",
    "outputVideo1.release()\n",
    "outputVideo2.release()\n",
    "cv2.destroyAllWindows()"
   ]
  },
  {
   "cell_type": "markdown",
   "id": "d9d5cc88",
   "metadata": {},
   "source": [
    "# 다양한 그리기 함수"
   ]
  },
  {
   "cell_type": "markdown",
   "id": "f9b40671",
   "metadata": {},
   "source": [
    "### 직선 그리기"
   ]
  },
  {
   "cell_type": "code",
   "execution_count": 14,
   "id": "e582773c",
   "metadata": {},
   "outputs": [
    {
     "data": {
      "text/plain": [
       "10"
      ]
     },
     "execution_count": 14,
     "metadata": {},
     "output_type": "execute_result"
    }
   ],
   "source": [
    "# 참고 (행렬의 색인순서는 y축, 즉 행부터)\n",
    "mat = np.array([[1, 2, 3],[4,5,6], [7,8,9], [10, 11, 12]])\n",
    "mat[3, 0]"
   ]
  },
  {
   "cell_type": "code",
   "execution_count": 11,
   "id": "630b2aad",
   "metadata": {},
   "outputs": [],
   "source": [
    "import numpy as np"
   ]
  },
  {
   "cell_type": "code",
   "execution_count": 21,
   "id": "393796e3",
   "metadata": {},
   "outputs": [],
   "source": [
    "img = np.full((400, 400, 3), 255, np.uint8)\n",
    "\n",
    "cv2.line(img, (50, 50), (200, 50), (0, 0, 255))\n",
    "cv2.line(img, (50, 100), (200, 100), (255, 0, 255), 3)\n",
    "cv2.line(img, (50, 150), (200, 150), (255, 0, 0), 10)\n",
    "\n",
    "cv2.line(img, (250, 50), (350, 100), (0, 0, 255), 1, cv2.LINE_4)\n",
    "cv2.line(img, (250, 70), (350, 120), (255, 0, 255), 1, cv2.LINE_8)\n",
    "cv2.line(img, (250, 90), (350, 140), (255, 0, 0), 1, cv2.LINE_AA)\n",
    "\n",
    "cv2.arrowedLine(img, (50, 200), (150, 200), (0, 0, 255), 1)\n",
    "cv2.arrowedLine(img, (50, 250), (350, 250), (255, 0, 255), 1)\n",
    "cv2.arrowedLine(img, (50, 300), (350, 300), (255, 0, 0), 1, tipLength=0.05)\n",
    "\n",
    "cv2.drawMarker(img, (50, 350), (0, 0, 255), cv2.MARKER_CROSS)\n",
    "cv2.drawMarker(img, (100, 350), (0, 0, 255), cv2.MARKER_TILTED_CROSS)\n",
    "cv2.drawMarker(img, (150, 350), (0, 0, 255), cv2.MARKER_STAR)\n",
    "cv2.drawMarker(img, (200, 350), (0, 0, 255), cv2.MARKER_DIAMOND)\n",
    "cv2.drawMarker(img, (250, 350), (0, 0, 255), cv2.MARKER_SQUARE)\n",
    "cv2.drawMarker(img, (300, 350), (0, 0, 255), cv2.MARKER_TRIANGLE_UP)\n",
    "cv2.drawMarker(img, (350, 350), (0, 0, 255), cv2.MARKER_TRIANGLE_DOWN)\n",
    "\n",
    "cv2.imshow(\"img\", img)              \n",
    "cv2.waitKey()\n",
    "cv2.destroyAllWindows()"
   ]
  },
  {
   "cell_type": "markdown",
   "id": "081e0ce2",
   "metadata": {},
   "source": [
    "### 도형 그리기"
   ]
  },
  {
   "cell_type": "code",
   "execution_count": 39,
   "id": "aea7616d",
   "metadata": {},
   "outputs": [],
   "source": [
    "img = np.full((400, 400, 3), 255, np.uint8)\n",
    "\n",
    "cv2.rectangle(img, (50, 50), (150, 100), (0, 0, 255), 2)\n",
    "cv2.rectangle(img, (50, 150), (150, 200), (0, 0, 128),-1)\n",
    "\n",
    "cv2.circle(img, (300, 120), 30, (255, 255, 0), -1)\n",
    "cv2.circle(img, (300, 120), 60, (255, 0, 0), 3)\n",
    "\n",
    "cv2.ellipse(img, (120, 300), (60, 30), 20, 0, 270, (255, 255, 0), cv2.FILLED, cv2.LINE_AA)\n",
    "cv2.ellipse(img, (120, 300), (100, 50), 20, 0, 360, (255, 0, 0), 2, cv2.LINE_AA)\n",
    "\n",
    "pts = np.array([[250, 250], [300, 250], [300, 300], [350, 300], [350, 350], [250, 350]])\n",
    "cv2.polylines(img, [pts], True, (255, 0, 255), 2)         \n",
    "            \n",
    "cv2.imshow(\"img\", img)\n",
    "cv2.waitKey()\n",
    "cv2.destroyAllWindows()\n"
   ]
  },
  {
   "cell_type": "markdown",
   "id": "fc78668e",
   "metadata": {},
   "source": [
    "### 문자열 출력하기"
   ]
  },
  {
   "cell_type": "code",
   "execution_count": 44,
   "id": "43dc29f7",
   "metadata": {},
   "outputs": [],
   "source": [
    "img = np.full((500, 800, 3), 255, np.uint8)\n",
    "cv2.putText(img, \"FONT_HERSHEY_SIMPLEX\", (20, 50), cv2.FONT_HERSHEY_SIMPLEX, 1, (0, 0, 255))\n",
    "cv2.putText(img, \"FONT_HERSHEY_PLAIN\", (20, 100), cv2.FONT_HERSHEY_PLAIN, 1, (0, 0, 255))\n",
    "cv2.putText(img, \"FONT_HERSHEY_DUPLEX\", (20, 150), cv2.FONT_HERSHEY_DUPLEX, 1, (0, 0, 255))\n",
    "cv2.putText(img, \"FONT_HERSHEY_COMPLEX\", (20, 200), cv2.FONT_HERSHEY_COMPLEX, 1, (255, 0, 0))\n",
    "cv2.putText(img, \"FONT_HERSHEY_TRIPLEX\", (20, 250), cv2.FONT_HERSHEY_TRIPLEX, 1, (255, 0, 0))\n",
    "cv2.putText(img, \"FONT_HERSHEY_COMPLEX_SMALL\", (20, 300), cv2.FONT_HERSHEY_COMPLEX_SMALL, 1, (255, 0, 0))\n",
    "cv2.putText(img, \"FONT_HERSHEY_SCRIPT_SIMPLEX\", (20, 350), cv2.FONT_HERSHEY_SCRIPT_SIMPLEX, 1, (255, 0, 255))\n",
    "cv2.putText(img, \"FONT_HERSHEY_SCRIPT_COMPLEX\", (20, 400), cv2.FONT_HERSHEY_SCRIPT_COMPLEX, 1, (255, 0, 255))\n",
    "cv2.putText(img, \"FONT_HERSHEY_COMPLEX | FONT_ITALIC\", (20, 450), cv2.FONT_HERSHEY_COMPLEX | cv2.FONT_ITALIC, 1, (255, 0, 0))\n",
    "            \n",
    "cv2.imshow(\"img\", img)\n",
    "cv2.waitKey()\n",
    "cv2.destroyAllWindows()            "
   ]
  },
  {
   "cell_type": "code",
   "execution_count": 55,
   "id": "ac9f9407",
   "metadata": {},
   "outputs": [],
   "source": [
    "img = np.full((200, 640, 3), 255, np.uint8)\n",
    "\n",
    "text = \"Hello, OpenCV\"\n",
    "fontFace = cv2.FONT_HERSHEY_TRIPLEX\n",
    "fontScale = 2.0\n",
    "thickness = 1\n",
    "\n",
    "sizeText, _ = cv2.getTextSize(text, fontFace, fontScale, thickness)\n",
    "# print(type(sizeText))\n",
    "# sizeText[0], sizeText[1]\n",
    "\n",
    "org = (img.shape[1] - sizeText[0])//2, (img.shape[0] + sizeText[1])//2\n",
    "cv2.putText(img, text, org, fontFace, fontScale, (255, 0, 0), thickness)\n",
    "cv2.rectangle(img, org, (org[0] + sizeText[0], org[1]-sizeText[1]), (0, 255, 0), 1)\n",
    "\n",
    "#TODO : org 좌표에 동그라미 그리기\n",
    "\n",
    "\n",
    "cv2.imshow(\"img\", img)\n",
    "cv2.waitKey()\n",
    "cv2.destroyAllWindows() "
   ]
  },
  {
   "cell_type": "markdown",
   "id": "cfb30019",
   "metadata": {},
   "source": [
    "### Workshop : 카운트 다운 영상 만들기"
   ]
  },
  {
   "cell_type": "code",
   "execution_count": 63,
   "id": "5d0312f7",
   "metadata": {},
   "outputs": [],
   "source": [
    "img = np.full((512, 512, 3), 255, np.uint8)\n",
    "cx, cy = img.shape[0]//2, img.shape[1]//2\n",
    "fontFace = cv2.FONT_HERSHEY_TRIPLEX\n",
    "fontScale = 5\n",
    "thickness = 2\n",
    "\n",
    "frame_size = img.shape[0], img.shape[1]\n",
    "fps = 1\n",
    "coutdown_writer = cv2.VideoWriter(\"./out/countdown0.mp4\", fourcc, fps, frame_size)\n",
    "\n",
    "for count in range(5, 0, -1):\n",
    "    text = str(count)\n",
    "    sizeText, _ = cv2.getTextSize(text, fontFace, fontScale, thickness)\n",
    "    org = (img.shape[1] - sizeText[0])//2, (img.shape[0] + sizeText[1])//2\n",
    "    cv2.putText(img, text, org, fontFace, fontScale, (255, 0, 0), 3)\n",
    "    np.max(sizeText) * count\n",
    "    cv2.circle(img, (cx, cy), int(np.max(sizeText) * count * 0.5), (255, 255, 0), 4)\n",
    "    coutdown_writer.write(img)\n",
    "    \n",
    "    cv2.imshow(\"img\", img)\n",
    "    cv2.waitKey(1000)\n",
    "    img = np.full((512, 512, 3), 255, np.uint8)\n",
    "\n",
    "coutdown_writer.release()\n",
    "cv2.destroyAllWindows()"
   ]
  },
  {
   "cell_type": "code",
   "execution_count": 64,
   "id": "0df48eac",
   "metadata": {},
   "outputs": [],
   "source": [
    "import numpy as np\n",
    "\n",
    "red = (0, 0, 255)\n",
    "orange = (0, 127, 255)\n",
    "yello = (0, 255, 255)\n",
    "green = (0, 255, 0)\n",
    "blue = (255, 0, 0)\n",
    "navy = (130, 0, 75)\n",
    "purple = (211, 0, 148)\n",
    "\n",
    "colors = [red, orange, yello, green, blue, navy, purple]\n",
    "\n",
    "img = np.zeros((512, 512, 3), dtype = np.uint8) + 255\n",
    "fourcc = cv2.VideoWriter_fourcc(*'XVID')\n",
    "fps = 1\n",
    "out = cv2.VideoWriter('./out/count_down_rainbow.mp4', fourcc, fps, (512, 512))\n",
    "\n",
    "j = 0\n",
    "for i in range(10, 0, -1):\n",
    "    text = str(i)\n",
    "    font = cv2.FONT_HERSHEY_SCRIPT_COMPLEX\n",
    "    cx = img.shape[0] // 2\n",
    "    cy = img.shape[1] // 2\n",
    "    org = (cx -11, cy+11)\n",
    "    cv2.putText(img, text, org, font, 1, (0, 0, 0), 2)\n",
    "    size, baseline = cv2.getTextSize(text, font, 1, 2)\n",
    "    \n",
    "    cv2.circle(img, (cx, cy), 50, color=colors[j%7], thickness= 20)\n",
    "    cv2.circle(img, (cx, cy), 100, color=colors[(j+1)%7], thickness= 20)\n",
    "    cv2.circle(img, (cx, cy), 150, color=colors[(j+2)%7], thickness= 20)\n",
    "    cv2.circle(img, (cx, cy), 200, color=colors[(j+3)%7], thickness= 20)\n",
    "    cv2.circle(img, (cx, cy), 250, color=colors[(j+4)%7], thickness= 20)\n",
    "    cv2.circle(img, (cx, cy), 300, color=colors[(j+5)%7], thickness= 20)\n",
    "    cv2.circle(img, (cx, cy), 350, color=colors[(j+6)%7], thickness= 20)\n",
    "    cv2.imshow('img', img)\n",
    "    out.write(img)\n",
    "    cv2.waitKey(1000)\n",
    "    img = np.zeros((512, 512, 3), dtype = np.uint8) + 255\n",
    "    j += 1\n",
    "out.release()\n",
    "cv2.destroyAllWindows()\n"
   ]
  },
  {
   "cell_type": "code",
   "execution_count": null,
   "id": "56533cd7",
   "metadata": {},
   "outputs": [],
   "source": []
  },
  {
   "cell_type": "code",
   "execution_count": null,
   "id": "58ee20ba",
   "metadata": {},
   "outputs": [],
   "source": []
  }
 ],
 "metadata": {
  "kernelspec": {
   "display_name": "Python 3 (ipykernel)",
   "language": "python",
   "name": "python3"
  },
  "language_info": {
   "codemirror_mode": {
    "name": "ipython",
    "version": 3
   },
   "file_extension": ".py",
   "mimetype": "text/x-python",
   "name": "python",
   "nbconvert_exporter": "python",
   "pygments_lexer": "ipython3",
   "version": "3.9.7"
  }
 },
 "nbformat": 4,
 "nbformat_minor": 5
}
