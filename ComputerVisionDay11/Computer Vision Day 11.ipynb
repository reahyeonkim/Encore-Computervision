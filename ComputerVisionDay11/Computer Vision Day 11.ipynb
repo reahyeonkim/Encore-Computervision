{
 "cells": [
  {
   "cell_type": "markdown",
   "id": "f48ba944",
   "metadata": {},
   "source": [
    "# 지역 특징점 검출과 매칭"
   ]
  },
  {
   "cell_type": "code",
   "execution_count": 1,
   "id": "19c13793",
   "metadata": {},
   "outputs": [],
   "source": [
    "import sys\n",
    "import numpy as np\n",
    "import cv2"
   ]
  },
  {
   "cell_type": "markdown",
   "id": "0a73e138",
   "metadata": {},
   "source": [
    "### 키포인트 검출"
   ]
  },
  {
   "cell_type": "code",
   "execution_count": 2,
   "id": "527177b7",
   "metadata": {},
   "outputs": [
    {
     "name": "stdout",
     "output_type": "stream",
     "text": [
      "len(keypoints) 500\n",
      "descriptor.shape (500, 32)\n"
     ]
    }
   ],
   "source": [
    "src = cv2.imread(\"./data/box_in_scene.png\", cv2.IMREAD_GRAYSCALE)\n",
    "if src is None:\n",
    "    print(\"Image load fail\")\n",
    "    sys.exit()\n",
    "    \n",
    "orb = cv2.ORB_create() # default 500개의 keypoint가 생성됨\n",
    "keypoints = orb.detect(src)\n",
    "keypoints, descriptor = orb.compute(src, keypoints)\n",
    "\n",
    "print(\"len(keypoints)\", len(keypoints))\n",
    "print(\"descriptor.shape\", descriptor.shape) # keypoint 한개당 256bit의 binary feature vector가 생성\n",
    "\n",
    "dst = cv2.drawKeypoints(src, keypoints, None, (-1, -1, -1), \n",
    "                        cv2.DrawMatchesFlags_DRAW_RICH_KEYPOINTS)\n",
    "\n",
    "# dst = cv2.drawKeypoints(src, keypoints, None, (-1, -1, -1))\n",
    "\n",
    "cv2.imshow('src', src)\n",
    "cv2.imshow('dst', dst)\n",
    "cv2.waitKey()\n",
    "cv2.destroyAllWindows()"
   ]
  },
  {
   "cell_type": "markdown",
   "id": "2f81adef",
   "metadata": {},
   "source": [
    "### Descriptor(binary feature vector) 매칭하기"
   ]
  },
  {
   "cell_type": "code",
   "execution_count": 3,
   "id": "df3a0826",
   "metadata": {},
   "outputs": [
    {
     "ename": "NameError",
     "evalue": "name 'src1' is not defined",
     "output_type": "error",
     "traceback": [
      "\u001b[1;31m---------------------------------------------------------------------------\u001b[0m",
      "\u001b[1;31mNameError\u001b[0m                                 Traceback (most recent call last)",
      "\u001b[1;32m~\\AppData\\Local\\Temp/ipykernel_15560/1441098736.py\u001b[0m in \u001b[0;36m<module>\u001b[1;34m\u001b[0m\n\u001b[0;32m      2\u001b[0m \u001b[0mtrain\u001b[0m \u001b[1;33m=\u001b[0m \u001b[0mcv2\u001b[0m\u001b[1;33m.\u001b[0m\u001b[0mimread\u001b[0m\u001b[1;33m(\u001b[0m\u001b[1;34m\"./data/box_in_scene.png\"\u001b[0m\u001b[1;33m,\u001b[0m \u001b[0mcv2\u001b[0m\u001b[1;33m.\u001b[0m\u001b[0mIMREAD_GRAYSCALE\u001b[0m\u001b[1;33m)\u001b[0m\u001b[1;33m\u001b[0m\u001b[1;33m\u001b[0m\u001b[0m\n\u001b[0;32m      3\u001b[0m \u001b[1;33m\u001b[0m\u001b[0m\n\u001b[1;32m----> 4\u001b[1;33m \u001b[1;32mif\u001b[0m \u001b[0msrc1\u001b[0m \u001b[1;32mis\u001b[0m \u001b[1;32mNone\u001b[0m \u001b[1;32mor\u001b[0m \u001b[0msrc2\u001b[0m \u001b[1;32mis\u001b[0m \u001b[1;32mNone\u001b[0m\u001b[1;33m:\u001b[0m\u001b[1;33m\u001b[0m\u001b[1;33m\u001b[0m\u001b[0m\n\u001b[0m\u001b[0;32m      5\u001b[0m     \u001b[0mprint\u001b[0m\u001b[1;33m(\u001b[0m\u001b[1;34m\"Image load fail\"\u001b[0m\u001b[1;33m)\u001b[0m\u001b[1;33m\u001b[0m\u001b[1;33m\u001b[0m\u001b[0m\n\u001b[0;32m      6\u001b[0m     \u001b[0msys\u001b[0m\u001b[1;33m.\u001b[0m\u001b[0mexit\u001b[0m\u001b[1;33m(\u001b[0m\u001b[1;33m)\u001b[0m\u001b[1;33m\u001b[0m\u001b[1;33m\u001b[0m\u001b[0m\n",
      "\u001b[1;31mNameError\u001b[0m: name 'src1' is not defined"
     ]
    }
   ],
   "source": [
    "query = cv2.imread(\"./data/box.png\", cv2.IMREAD_GRAYSCALE)\n",
    "train = cv2.imread(\"./data/box_in_scene.png\", cv2.IMREAD_GRAYSCALE)\n",
    "\n",
    "if src1 is None or src2 is None:\n",
    "    print(\"Image load fail\")\n",
    "    sys.exit()\n",
    "    \n",
    "orb = cv2.ORB_create() # default 500개의 keypoint가 생성됨\n",
    "\n",
    "query_keypoints, query_descriptor = orb.detectAndCompute(query, None)\n",
    "\n",
    "train_keypoints, train_descriptor = orb.detectAndCompute(train, None)\n",
    "\n",
    "print(\"[query] len(keypoints)\", len(query_keypoints))\n",
    "print(\"[query] descriptor.shape\", query_descriptor.shape)\n",
    "\n",
    "print(\"[train] len(keypoints)\", len(train_keypoints))\n",
    "print(\"[train] descriptor.shape\", train_descriptor.shape)\n",
    "\n",
    "matcher = cv2.BFMatcher_create(cv2.NORM_HAMMING) # crossCheck=False\n",
    "matches = matcher.match(query_descriptor, train_descriptor)\n",
    "\n",
    "dst = cv2.drawMatches(query, query_keypoints, train, train_keypoints, matches, None) # keypoint와 match가 모두 표시\n",
    "\n",
    "cv2.imshow('query', query)\n",
    "cv2.imshow('train', train)\n",
    "cv2.imshow('dst', dst)\n",
    "cv2.waitKey()\n",
    "cv2.destroyAllWindows()"
   ]
  },
  {
   "cell_type": "markdown",
   "id": "aa0df31c",
   "metadata": {},
   "source": [
    "##### crossCheck = True, sorting, flag = NOT_DRAW_SINGLE_POINTS"
   ]
  },
  {
   "cell_type": "code",
   "execution_count": 4,
   "id": "fa71bb08",
   "metadata": {},
   "outputs": [
    {
     "ename": "NameError",
     "evalue": "name 'src1' is not defined",
     "output_type": "error",
     "traceback": [
      "\u001b[1;31m---------------------------------------------------------------------------\u001b[0m",
      "\u001b[1;31mNameError\u001b[0m                                 Traceback (most recent call last)",
      "\u001b[1;32m~\\AppData\\Local\\Temp/ipykernel_15560/2021881271.py\u001b[0m in \u001b[0;36m<module>\u001b[1;34m\u001b[0m\n\u001b[0;32m      2\u001b[0m \u001b[0mtrain\u001b[0m \u001b[1;33m=\u001b[0m \u001b[0mcv2\u001b[0m\u001b[1;33m.\u001b[0m\u001b[0mimread\u001b[0m\u001b[1;33m(\u001b[0m\u001b[1;34m\"./data/box_in_scene.png\"\u001b[0m\u001b[1;33m,\u001b[0m \u001b[0mcv2\u001b[0m\u001b[1;33m.\u001b[0m\u001b[0mIMREAD_GRAYSCALE\u001b[0m\u001b[1;33m)\u001b[0m\u001b[1;33m\u001b[0m\u001b[1;33m\u001b[0m\u001b[0m\n\u001b[0;32m      3\u001b[0m \u001b[1;33m\u001b[0m\u001b[0m\n\u001b[1;32m----> 4\u001b[1;33m \u001b[1;32mif\u001b[0m \u001b[0msrc1\u001b[0m \u001b[1;32mis\u001b[0m \u001b[1;32mNone\u001b[0m \u001b[1;32mor\u001b[0m \u001b[0msrc2\u001b[0m \u001b[1;32mis\u001b[0m \u001b[1;32mNone\u001b[0m\u001b[1;33m:\u001b[0m\u001b[1;33m\u001b[0m\u001b[1;33m\u001b[0m\u001b[0m\n\u001b[0m\u001b[0;32m      5\u001b[0m     \u001b[0mprint\u001b[0m\u001b[1;33m(\u001b[0m\u001b[1;34m\"Image load fail\"\u001b[0m\u001b[1;33m)\u001b[0m\u001b[1;33m\u001b[0m\u001b[1;33m\u001b[0m\u001b[0m\n\u001b[0;32m      6\u001b[0m     \u001b[0msys\u001b[0m\u001b[1;33m.\u001b[0m\u001b[0mexit\u001b[0m\u001b[1;33m(\u001b[0m\u001b[1;33m)\u001b[0m\u001b[1;33m\u001b[0m\u001b[1;33m\u001b[0m\u001b[0m\n",
      "\u001b[1;31mNameError\u001b[0m: name 'src1' is not defined"
     ]
    }
   ],
   "source": [
    "query = cv2.imread(\"./data/box.png\", cv2.IMREAD_GRAYSCALE)\n",
    "train = cv2.imread(\"./data/box_in_scene.png\", cv2.IMREAD_GRAYSCALE)\n",
    "\n",
    "if src1 is None or src2 is None:\n",
    "    print(\"Image load fail\")\n",
    "    sys.exit()\n",
    "    \n",
    "orb = cv2.ORB_create() # default 500개의 keypoint가 생성됨\n",
    "\n",
    "query_keypoints, query_descriptor = orb.detectAndCompute(query, None)\n",
    "\n",
    "train_keypoints, train_descriptor = orb.detectAndCompute(train, None)\n",
    "\n",
    "print(\"[query] len(keypoints)\", len(query_keypoints))\n",
    "print(\"[query] descriptor.shape\", query_descriptor.shape)\n",
    "\n",
    "print(\"[train] len(keypoints)\", len(train_keypoints))\n",
    "print(\"[train] descriptor.shape\", train_descriptor.shape)\n",
    "\n",
    "matcher = cv2.BFMatcher_create(cv2.NORM_HAMMING, crossCheck=True) #True\n",
    "matches = matcher.match(query_descriptor, train_descriptor)\n",
    "\n",
    "sorted_matches = sorted(matches, key=lambda x: x.distance)\n",
    "# dst = cv2.drawMatches(query, query_keypoints, train, train_keypoints, matches, None) # keypoint와 match가 모두 표시\n",
    "dst = cv2.drawMatches(query, query_keypoints, train, train_keypoints, sorted_matches[:50], None, \n",
    "                      flags=cv2.DrawMatchesFlags_NOT_DRAW_SINGLE_POINTS) # 매칭되지 않은 keypoint는 표시하지 않음\n",
    "\n",
    "cv2.imshow('query', query)\n",
    "cv2.imshow('train', train)\n",
    "cv2.imshow('dst', dst)\n",
    "cv2.waitKey()\n",
    "cv2.destroyAllWindows()"
   ]
  },
  {
   "cell_type": "code",
   "execution_count": 5,
   "id": "1edaa5c3",
   "metadata": {},
   "outputs": [
    {
     "data": {
      "text/plain": [
       "['aa', 'ee', 'ccc', 'bbb', 'ddddd']"
      ]
     },
     "execution_count": 5,
     "metadata": {},
     "output_type": "execute_result"
    }
   ],
   "source": [
    "# 참고\n",
    "l = [\"aa\", \"ccc\", \"ddddd\", \"ee\", \"bbb\"]\n",
    "sorted(l, key=len)"
   ]
  },
  {
   "cell_type": "markdown",
   "id": "633bacaf",
   "metadata": {},
   "source": [
    "### Workshop : face.jpeg"
   ]
  },
  {
   "cell_type": "markdown",
   "id": "64a33e3a",
   "metadata": {},
   "source": [
    "#### Original Image 확인하기"
   ]
  },
  {
   "cell_type": "code",
   "execution_count": 6,
   "id": "52d585cc",
   "metadata": {},
   "outputs": [],
   "source": [
    "import matplotlib.pyplot as plt"
   ]
  },
  {
   "cell_type": "code",
   "execution_count": 7,
   "id": "1d06aee9",
   "metadata": {},
   "outputs": [
    {
     "ename": "error",
     "evalue": "OpenCV(4.5.5) D:\\a\\opencv-python\\opencv-python\\opencv\\modules\\imgproc\\src\\color.cpp:182: error: (-215:Assertion failed) !_src.empty() in function 'cv::cvtColor'\n",
     "output_type": "error",
     "traceback": [
      "\u001b[1;31m---------------------------------------------------------------------------\u001b[0m",
      "\u001b[1;31merror\u001b[0m                                     Traceback (most recent call last)",
      "\u001b[1;32m~\\AppData\\Local\\Temp/ipykernel_15560/3095461997.py\u001b[0m in \u001b[0;36m<module>\u001b[1;34m\u001b[0m\n\u001b[0;32m      1\u001b[0m \u001b[0msrc\u001b[0m \u001b[1;33m=\u001b[0m \u001b[0mcv2\u001b[0m\u001b[1;33m.\u001b[0m\u001b[0mimread\u001b[0m\u001b[1;33m(\u001b[0m\u001b[1;34m'./data/face.jpeg'\u001b[0m\u001b[1;33m)\u001b[0m\u001b[1;33m\u001b[0m\u001b[1;33m\u001b[0m\u001b[0m\n\u001b[0;32m      2\u001b[0m \u001b[1;33m\u001b[0m\u001b[0m\n\u001b[1;32m----> 3\u001b[1;33m \u001b[0msrc_rgb\u001b[0m \u001b[1;33m=\u001b[0m \u001b[0mcv2\u001b[0m\u001b[1;33m.\u001b[0m\u001b[0mcvtColor\u001b[0m\u001b[1;33m(\u001b[0m\u001b[0msrc\u001b[0m\u001b[1;33m,\u001b[0m \u001b[0mcv2\u001b[0m\u001b[1;33m.\u001b[0m\u001b[0mCOLOR_BGR2RGB\u001b[0m\u001b[1;33m)\u001b[0m\u001b[1;33m\u001b[0m\u001b[1;33m\u001b[0m\u001b[0m\n\u001b[0m\u001b[0;32m      4\u001b[0m \u001b[0mgray\u001b[0m \u001b[1;33m=\u001b[0m \u001b[0mcv2\u001b[0m\u001b[1;33m.\u001b[0m\u001b[0mcvtColor\u001b[0m\u001b[1;33m(\u001b[0m\u001b[0msrc\u001b[0m\u001b[1;33m,\u001b[0m \u001b[0mcv2\u001b[0m\u001b[1;33m.\u001b[0m\u001b[0mCOLOR_BGR2GRAY\u001b[0m\u001b[1;33m)\u001b[0m\u001b[1;33m\u001b[0m\u001b[1;33m\u001b[0m\u001b[0m\n\u001b[0;32m      5\u001b[0m \u001b[1;33m\u001b[0m\u001b[0m\n",
      "\u001b[1;31merror\u001b[0m: OpenCV(4.5.5) D:\\a\\opencv-python\\opencv-python\\opencv\\modules\\imgproc\\src\\color.cpp:182: error: (-215:Assertion failed) !_src.empty() in function 'cv::cvtColor'\n"
     ]
    }
   ],
   "source": [
    "src = cv2.imread('./data/face.jpeg')\n",
    "\n",
    "src_rgb = cv2.cvtColor(src, cv2.COLOR_BGR2RGB)\n",
    "gray = cv2.cvtColor(src, cv2.COLOR_BGR2GRAY)\n",
    "\n",
    "plt.subplot(121)\n",
    "plt.title(\"rbg image\")\n",
    "plt.imshow(src_rgb)\n",
    "\n",
    "plt.subplot(122)\n",
    "plt.title(\"gray image\")\n",
    "plt.imshow(gray, cmap=\"gray\")"
   ]
  },
  {
   "cell_type": "markdown",
   "id": "2ea498d4",
   "metadata": {},
   "source": [
    "#### Key points 검출하기"
   ]
  },
  {
   "cell_type": "code",
   "execution_count": 8,
   "id": "d78a374e",
   "metadata": {},
   "outputs": [
    {
     "ename": "NameError",
     "evalue": "name 'gray' is not defined",
     "output_type": "error",
     "traceback": [
      "\u001b[1;31m---------------------------------------------------------------------------\u001b[0m",
      "\u001b[1;31mNameError\u001b[0m                                 Traceback (most recent call last)",
      "\u001b[1;32m~\\AppData\\Local\\Temp/ipykernel_15560/4094619360.py\u001b[0m in \u001b[0;36m<module>\u001b[1;34m\u001b[0m\n\u001b[0;32m      2\u001b[0m \u001b[1;33m\u001b[0m\u001b[0m\n\u001b[0;32m      3\u001b[0m \u001b[0morb\u001b[0m \u001b[1;33m=\u001b[0m \u001b[0mcv2\u001b[0m\u001b[1;33m.\u001b[0m\u001b[0mORB_create\u001b[0m\u001b[1;33m(\u001b[0m\u001b[1;36m1000\u001b[0m\u001b[1;33m,\u001b[0m \u001b[1;36m2\u001b[0m\u001b[1;33m)\u001b[0m\u001b[1;33m\u001b[0m\u001b[1;33m\u001b[0m\u001b[0m\n\u001b[1;32m----> 4\u001b[1;33m \u001b[0mkeypoints\u001b[0m\u001b[1;33m,\u001b[0m \u001b[0mdescriptor\u001b[0m \u001b[1;33m=\u001b[0m \u001b[0morb\u001b[0m\u001b[1;33m.\u001b[0m\u001b[0mdetectAndCompute\u001b[0m\u001b[1;33m(\u001b[0m\u001b[0mgray\u001b[0m\u001b[1;33m,\u001b[0m \u001b[1;32mNone\u001b[0m\u001b[1;33m)\u001b[0m\u001b[1;33m\u001b[0m\u001b[1;33m\u001b[0m\u001b[0m\n\u001b[0m\u001b[0;32m      5\u001b[0m \u001b[0mdst1\u001b[0m \u001b[1;33m=\u001b[0m \u001b[0mcv2\u001b[0m\u001b[1;33m.\u001b[0m\u001b[0mdrawKeypoints\u001b[0m\u001b[1;33m(\u001b[0m\u001b[0msrc_rgb\u001b[0m\u001b[1;33m,\u001b[0m \u001b[0mkeypoints\u001b[0m\u001b[1;33m,\u001b[0m \u001b[1;32mNone\u001b[0m\u001b[1;33m,\u001b[0m \u001b[0mcolor\u001b[0m\u001b[1;33m=\u001b[0m\u001b[1;33m(\u001b[0m\u001b[1;36m0\u001b[0m\u001b[1;33m,\u001b[0m \u001b[1;36m255\u001b[0m\u001b[1;33m,\u001b[0m \u001b[1;36m0\u001b[0m\u001b[1;33m)\u001b[0m\u001b[1;33m)\u001b[0m\u001b[1;33m\u001b[0m\u001b[1;33m\u001b[0m\u001b[0m\n\u001b[0;32m      6\u001b[0m dst2 = cv2.drawKeypoints(src_rgb, keypoints, None, color=(-1, -1, -1), \n",
      "\u001b[1;31mNameError\u001b[0m: name 'gray' is not defined"
     ]
    }
   ],
   "source": [
    "plt.rcParams[\"figure.figsize\"] = [14, 7]\n",
    "\n",
    "orb = cv2.ORB_create(1000, 2) \n",
    "keypoints, descriptor = orb.detectAndCompute(gray, None)\n",
    "dst1 = cv2.drawKeypoints(src_rgb, keypoints, None, color=(0, 255, 0))\n",
    "dst2 = cv2.drawKeypoints(src_rgb, keypoints, None, color=(-1, -1, -1), \n",
    "                         flags = cv2.DrawMatchesFlags_DRAW_RICH_KEYPOINTS)\n",
    "\n",
    "plt.subplot(121)\n",
    "plt.title(\"dst1\")\n",
    "plt.imshow(dst1)\n",
    "\n",
    "plt.subplot(122)\n",
    "plt.title(\"dst2\")\n",
    "plt.imshow(dst2)"
   ]
  },
  {
   "cell_type": "markdown",
   "id": "b70335ae",
   "metadata": {},
   "source": [
    "#### Descriptor(binary feature vector) 매칭하기"
   ]
  },
  {
   "cell_type": "code",
   "execution_count": 9,
   "id": "2d42c9fc",
   "metadata": {},
   "outputs": [
    {
     "ename": "error",
     "evalue": "OpenCV(4.5.5) D:\\a\\opencv-python\\opencv-python\\opencv\\modules\\imgproc\\src\\color.cpp:182: error: (-215:Assertion failed) !_src.empty() in function 'cv::cvtColor'\n",
     "output_type": "error",
     "traceback": [
      "\u001b[1;31m---------------------------------------------------------------------------\u001b[0m",
      "\u001b[1;31merror\u001b[0m                                     Traceback (most recent call last)",
      "\u001b[1;32m~\\AppData\\Local\\Temp/ipykernel_15560/2775290252.py\u001b[0m in \u001b[0;36m<module>\u001b[1;34m\u001b[0m\n\u001b[0;32m      4\u001b[0m \u001b[0mimg2\u001b[0m \u001b[1;33m=\u001b[0m \u001b[0mcv2\u001b[0m\u001b[1;33m.\u001b[0m\u001b[0mimread\u001b[0m\u001b[1;33m(\u001b[0m\u001b[1;34m'./data/face.jpeg'\u001b[0m\u001b[1;33m)\u001b[0m\u001b[1;33m\u001b[0m\u001b[1;33m\u001b[0m\u001b[0m\n\u001b[0;32m      5\u001b[0m \u001b[1;33m\u001b[0m\u001b[0m\n\u001b[1;32m----> 6\u001b[1;33m \u001b[0mimg1_rgb\u001b[0m \u001b[1;33m=\u001b[0m \u001b[0mcv2\u001b[0m\u001b[1;33m.\u001b[0m\u001b[0mcvtColor\u001b[0m\u001b[1;33m(\u001b[0m\u001b[0mimg1\u001b[0m\u001b[1;33m,\u001b[0m \u001b[0mcv2\u001b[0m\u001b[1;33m.\u001b[0m\u001b[0mCOLOR_BGR2RGB\u001b[0m\u001b[1;33m)\u001b[0m\u001b[1;33m\u001b[0m\u001b[1;33m\u001b[0m\u001b[0m\n\u001b[0m\u001b[0;32m      7\u001b[0m \u001b[0mimg2_rgb\u001b[0m \u001b[1;33m=\u001b[0m \u001b[0mcv2\u001b[0m\u001b[1;33m.\u001b[0m\u001b[0mcvtColor\u001b[0m\u001b[1;33m(\u001b[0m\u001b[0mimg2\u001b[0m\u001b[1;33m,\u001b[0m \u001b[0mcv2\u001b[0m\u001b[1;33m.\u001b[0m\u001b[0mCOLOR_BGR2RGB\u001b[0m\u001b[1;33m)\u001b[0m\u001b[1;33m\u001b[0m\u001b[1;33m\u001b[0m\u001b[0m\n\u001b[0;32m      8\u001b[0m \u001b[1;33m\u001b[0m\u001b[0m\n",
      "\u001b[1;31merror\u001b[0m: OpenCV(4.5.5) D:\\a\\opencv-python\\opencv-python\\opencv\\modules\\imgproc\\src\\color.cpp:182: error: (-215:Assertion failed) !_src.empty() in function 'cv::cvtColor'\n"
     ]
    }
   ],
   "source": [
    "plt.rcParams[\"figure.figsize\"] = [14, 7]\n",
    "\n",
    "img1 = cv2.imread('./data/face.jpeg')\n",
    "img2 = cv2.imread('./data/face.jpeg')\n",
    "\n",
    "img1_rgb = cv2.cvtColor(img1, cv2.COLOR_BGR2RGB)\n",
    "img2_rgb = cv2.cvtColor(img2, cv2.COLOR_BGR2RGB)\n",
    "\n",
    "plt.subplot(121)\n",
    "plt.title(\"img1_rgb\")\n",
    "plt.imshow(img1_rgb)\n",
    "\n",
    "plt.subplot(122)\n",
    "plt.title(\"img2_rgb\")\n",
    "plt.imshow(img2_rgb)\n",
    "plt.show()\n",
    "#############################\n",
    "\n",
    "query = cv2.cvtColor(img1_rgb, cv2.COLOR_BGR2GRAY)\n",
    "train = cv2.cvtColor(img2_rgb, cv2.COLOR_BGR2GRAY)\n",
    "\n",
    "orb = cv2.ORB_create(1000, 2) # keypoint의 갯수, scale factor\n",
    "\n",
    "query_keypoints, query_descriptor = orb.detectAndCompute(query, None)\n",
    "train_keypoints, train_descriptor = orb.detectAndCompute(train, None)\n",
    "\n",
    "print(\"[query] len(keypoints)\", len(query_keypoints))\n",
    "print(\"[query] descriptor.shape\", query_descriptor.shape)\n",
    "\n",
    "print(\"[train] len(keypoints)\", len(train_keypoints))\n",
    "print(\"[train] descriptor.shape\", train_descriptor.shape)\n",
    "\n",
    "matcher = cv2.BFMatcher_create(cv2.NORM_HAMMING, crossCheck=True) #True\n",
    "matches = matcher.match(query_descriptor, train_descriptor)\n",
    "\n",
    "sorted_matches = sorted(matches, key=lambda x: x.distance)\n",
    "good_matches = sorted_matches[:200]\n",
    "\n",
    "\n",
    "dst = cv2.drawMatches(query, query_keypoints, train, train_keypoints, good_matches, None, \n",
    "                      flags=cv2.DrawMatchesFlags_NOT_DRAW_SINGLE_POINTS) # 매칭되지 않은 keypoint는 표시하지 않음\n",
    "\n",
    "\n",
    "plt.subplot(121)\n",
    "plt.title(\"Best Matchin Result\")\n",
    "plt.imshow(dst)\n",
    "plt.show()"
   ]
  },
  {
   "cell_type": "markdown",
   "id": "fb3052ba",
   "metadata": {},
   "source": [
    "#### ORB의 중요 특징\n",
    "- Scale Invariance\n",
    "- Rotational Invariance\n",
    "- Illumination(조명) Invariance\n",
    "- Noise Invariance"
   ]
  },
  {
   "cell_type": "markdown",
   "id": "d24c9362",
   "metadata": {},
   "source": [
    "##### Scale Invariance"
   ]
  },
  {
   "cell_type": "code",
   "execution_count": 10,
   "id": "b55eb43f",
   "metadata": {},
   "outputs": [
    {
     "ename": "error",
     "evalue": "OpenCV(4.5.5) D:\\a\\opencv-python\\opencv-python\\opencv\\modules\\imgproc\\src\\color.cpp:182: error: (-215:Assertion failed) !_src.empty() in function 'cv::cvtColor'\n",
     "output_type": "error",
     "traceback": [
      "\u001b[1;31m---------------------------------------------------------------------------\u001b[0m",
      "\u001b[1;31merror\u001b[0m                                     Traceback (most recent call last)",
      "\u001b[1;32m~\\AppData\\Local\\Temp/ipykernel_15560/446666694.py\u001b[0m in \u001b[0;36m<module>\u001b[1;34m\u001b[0m\n\u001b[0;32m      5\u001b[0m \u001b[1;33m\u001b[0m\u001b[0m\n\u001b[0;32m      6\u001b[0m \u001b[1;33m\u001b[0m\u001b[0m\n\u001b[1;32m----> 7\u001b[1;33m \u001b[0mimg1_rgb\u001b[0m \u001b[1;33m=\u001b[0m \u001b[0mcv2\u001b[0m\u001b[1;33m.\u001b[0m\u001b[0mcvtColor\u001b[0m\u001b[1;33m(\u001b[0m\u001b[0mimg1\u001b[0m\u001b[1;33m,\u001b[0m \u001b[0mcv2\u001b[0m\u001b[1;33m.\u001b[0m\u001b[0mCOLOR_BGR2RGB\u001b[0m\u001b[1;33m)\u001b[0m\u001b[1;33m\u001b[0m\u001b[1;33m\u001b[0m\u001b[0m\n\u001b[0m\u001b[0;32m      8\u001b[0m \u001b[0mimg2_rgb\u001b[0m \u001b[1;33m=\u001b[0m \u001b[0mcv2\u001b[0m\u001b[1;33m.\u001b[0m\u001b[0mcvtColor\u001b[0m\u001b[1;33m(\u001b[0m\u001b[0mimg2\u001b[0m\u001b[1;33m,\u001b[0m \u001b[0mcv2\u001b[0m\u001b[1;33m.\u001b[0m\u001b[0mCOLOR_BGR2RGB\u001b[0m\u001b[1;33m)\u001b[0m\u001b[1;33m\u001b[0m\u001b[1;33m\u001b[0m\u001b[0m\n\u001b[0;32m      9\u001b[0m \u001b[1;33m\u001b[0m\u001b[0m\n",
      "\u001b[1;31merror\u001b[0m: OpenCV(4.5.5) D:\\a\\opencv-python\\opencv-python\\opencv\\modules\\imgproc\\src\\color.cpp:182: error: (-215:Assertion failed) !_src.empty() in function 'cv::cvtColor'\n"
     ]
    }
   ],
   "source": [
    "plt.rcParams[\"figure.figsize\"] = [14, 7]\n",
    "\n",
    "img1 = cv2.imread('./data/faceQS.png')\n",
    "img2 = cv2.imread('./data/face.jpeg')\n",
    "\n",
    "\n",
    "img1_rgb = cv2.cvtColor(img1, cv2.COLOR_BGR2RGB)\n",
    "img2_rgb = cv2.cvtColor(img2, cv2.COLOR_BGR2RGB)\n",
    "\n",
    "plt.subplot(121)\n",
    "plt.title(\"img1_rgb\")\n",
    "plt.imshow(img1_rgb)\n",
    "\n",
    "plt.subplot(122)\n",
    "plt.title(\"img2_rgb\")\n",
    "plt.imshow(img2_rgb)\n",
    "plt.show()\n",
    "#############################\n",
    "\n",
    "query = cv2.cvtColor(img1_rgb, cv2.COLOR_BGR2GRAY)\n",
    "train = cv2.cvtColor(img2_rgb, cv2.COLOR_BGR2GRAY)\n",
    "\n",
    "orb = cv2.ORB_create(1000, 2) # keypoint의 갯수, scale factor\n",
    "\n",
    "query_keypoints, query_descriptor = orb.detectAndCompute(query, None)\n",
    "train_keypoints, train_descriptor = orb.detectAndCompute(train, None)\n",
    "\n",
    "print(\"[query] len(keypoints)\", len(query_keypoints))\n",
    "print(\"[query] descriptor.shape\", query_descriptor.shape)\n",
    "\n",
    "print(\"[train] len(keypoints)\", len(train_keypoints))\n",
    "print(\"[train] descriptor.shape\", train_descriptor.shape)\n",
    "\n",
    "matcher = cv2.BFMatcher_create(cv2.NORM_HAMMING, crossCheck=True) #True\n",
    "matches = matcher.match(query_descriptor, train_descriptor)\n",
    "\n",
    "sorted_matches = sorted(matches, key=lambda x: x.distance)\n",
    "good_matches = sorted_matches[:200]\n",
    "\n",
    "\n",
    "dst = cv2.drawMatches(query, query_keypoints, train, train_keypoints, good_matches, None, \n",
    "                      flags=cv2.DrawMatchesFlags_NOT_DRAW_SINGLE_POINTS) # 매칭되지 않은 keypoint는 표시하지 않음\n",
    "\n",
    "\n",
    "plt.subplot(121)\n",
    "plt.title(\"Best Matchin Result\")\n",
    "plt.imshow(dst)\n",
    "plt.show()"
   ]
  },
  {
   "cell_type": "markdown",
   "id": "91cf954f",
   "metadata": {},
   "source": [
    "##### Rotational Invariance"
   ]
  },
  {
   "cell_type": "code",
   "execution_count": 11,
   "id": "d7cd0504",
   "metadata": {},
   "outputs": [
    {
     "ename": "error",
     "evalue": "OpenCV(4.5.5) D:\\a\\opencv-python\\opencv-python\\opencv\\modules\\imgproc\\src\\color.cpp:182: error: (-215:Assertion failed) !_src.empty() in function 'cv::cvtColor'\n",
     "output_type": "error",
     "traceback": [
      "\u001b[1;31m---------------------------------------------------------------------------\u001b[0m",
      "\u001b[1;31merror\u001b[0m                                     Traceback (most recent call last)",
      "\u001b[1;32m~\\AppData\\Local\\Temp/ipykernel_15560/2755045532.py\u001b[0m in \u001b[0;36m<module>\u001b[1;34m\u001b[0m\n\u001b[0;32m      5\u001b[0m \u001b[1;33m\u001b[0m\u001b[0m\n\u001b[0;32m      6\u001b[0m \u001b[1;33m\u001b[0m\u001b[0m\n\u001b[1;32m----> 7\u001b[1;33m \u001b[0mimg1_rgb\u001b[0m \u001b[1;33m=\u001b[0m \u001b[0mcv2\u001b[0m\u001b[1;33m.\u001b[0m\u001b[0mcvtColor\u001b[0m\u001b[1;33m(\u001b[0m\u001b[0mimg1\u001b[0m\u001b[1;33m,\u001b[0m \u001b[0mcv2\u001b[0m\u001b[1;33m.\u001b[0m\u001b[0mCOLOR_BGR2RGB\u001b[0m\u001b[1;33m)\u001b[0m\u001b[1;33m\u001b[0m\u001b[1;33m\u001b[0m\u001b[0m\n\u001b[0m\u001b[0;32m      8\u001b[0m \u001b[0mimg2_rgb\u001b[0m \u001b[1;33m=\u001b[0m \u001b[0mcv2\u001b[0m\u001b[1;33m.\u001b[0m\u001b[0mcvtColor\u001b[0m\u001b[1;33m(\u001b[0m\u001b[0mimg2\u001b[0m\u001b[1;33m,\u001b[0m \u001b[0mcv2\u001b[0m\u001b[1;33m.\u001b[0m\u001b[0mCOLOR_BGR2RGB\u001b[0m\u001b[1;33m)\u001b[0m\u001b[1;33m\u001b[0m\u001b[1;33m\u001b[0m\u001b[0m\n\u001b[0;32m      9\u001b[0m \u001b[1;33m\u001b[0m\u001b[0m\n",
      "\u001b[1;31merror\u001b[0m: OpenCV(4.5.5) D:\\a\\opencv-python\\opencv-python\\opencv\\modules\\imgproc\\src\\color.cpp:182: error: (-215:Assertion failed) !_src.empty() in function 'cv::cvtColor'\n"
     ]
    }
   ],
   "source": [
    "plt.rcParams[\"figure.figsize\"] = [14, 7]\n",
    "\n",
    "img1 = cv2.imread('./data/faceR.jpeg')\n",
    "img2 = cv2.imread('./data/face.jpeg')\n",
    "\n",
    "\n",
    "img1_rgb = cv2.cvtColor(img1, cv2.COLOR_BGR2RGB)\n",
    "img2_rgb = cv2.cvtColor(img2, cv2.COLOR_BGR2RGB)\n",
    "\n",
    "plt.subplot(121)\n",
    "plt.title(\"img1_rgb\")\n",
    "plt.imshow(img1_rgb)\n",
    "\n",
    "plt.subplot(122)\n",
    "plt.title(\"img2_rgb\")\n",
    "plt.imshow(img2_rgb)\n",
    "plt.show()\n",
    "#############################\n",
    "\n",
    "query = cv2.cvtColor(img1_rgb, cv2.COLOR_BGR2GRAY)\n",
    "train = cv2.cvtColor(img2_rgb, cv2.COLOR_BGR2GRAY)\n",
    "\n",
    "orb = cv2.ORB_create(1000, 2) # keypoint의 갯수, scale factor\n",
    "\n",
    "query_keypoints, query_descriptor = orb.detectAndCompute(query, None)\n",
    "train_keypoints, train_descriptor = orb.detectAndCompute(train, None)\n",
    "\n",
    "print(\"[query] len(keypoints)\", len(query_keypoints))\n",
    "print(\"[query] descriptor.shape\", query_descriptor.shape)\n",
    "\n",
    "print(\"[train] len(keypoints)\", len(train_keypoints))\n",
    "print(\"[train] descriptor.shape\", train_descriptor.shape)\n",
    "\n",
    "matcher = cv2.BFMatcher_create(cv2.NORM_HAMMING, crossCheck=True) #True\n",
    "matches = matcher.match(query_descriptor, train_descriptor)\n",
    "\n",
    "sorted_matches = sorted(matches, key=lambda x: x.distance)\n",
    "good_matches = sorted_matches[:200]\n",
    "\n",
    "\n",
    "dst = cv2.drawMatches(query, query_keypoints, train, train_keypoints, good_matches, None, \n",
    "                      flags=cv2.DrawMatchesFlags_NOT_DRAW_SINGLE_POINTS) # 매칭되지 않은 keypoint는 표시하지 않음\n",
    "\n",
    "\n",
    "plt.subplot(121)\n",
    "plt.title(\"Best Matchin Result\")\n",
    "plt.imshow(dst)\n",
    "plt.show()"
   ]
  },
  {
   "cell_type": "markdown",
   "id": "ce77b601",
   "metadata": {},
   "source": [
    "##### Illumination(조명) Invariance"
   ]
  },
  {
   "cell_type": "code",
   "execution_count": 12,
   "id": "e2dcaef5",
   "metadata": {},
   "outputs": [
    {
     "ename": "error",
     "evalue": "OpenCV(4.5.5) D:\\a\\opencv-python\\opencv-python\\opencv\\modules\\imgproc\\src\\color.cpp:182: error: (-215:Assertion failed) !_src.empty() in function 'cv::cvtColor'\n",
     "output_type": "error",
     "traceback": [
      "\u001b[1;31m---------------------------------------------------------------------------\u001b[0m",
      "\u001b[1;31merror\u001b[0m                                     Traceback (most recent call last)",
      "\u001b[1;32m~\\AppData\\Local\\Temp/ipykernel_15560/3401639676.py\u001b[0m in \u001b[0;36m<module>\u001b[1;34m\u001b[0m\n\u001b[0;32m      5\u001b[0m \u001b[1;33m\u001b[0m\u001b[0m\n\u001b[0;32m      6\u001b[0m \u001b[1;33m\u001b[0m\u001b[0m\n\u001b[1;32m----> 7\u001b[1;33m \u001b[0mimg1_rgb\u001b[0m \u001b[1;33m=\u001b[0m \u001b[0mcv2\u001b[0m\u001b[1;33m.\u001b[0m\u001b[0mcvtColor\u001b[0m\u001b[1;33m(\u001b[0m\u001b[0mimg1\u001b[0m\u001b[1;33m,\u001b[0m \u001b[0mcv2\u001b[0m\u001b[1;33m.\u001b[0m\u001b[0mCOLOR_BGR2RGB\u001b[0m\u001b[1;33m)\u001b[0m\u001b[1;33m\u001b[0m\u001b[1;33m\u001b[0m\u001b[0m\n\u001b[0m\u001b[0;32m      8\u001b[0m \u001b[0mimg2_rgb\u001b[0m \u001b[1;33m=\u001b[0m \u001b[0mcv2\u001b[0m\u001b[1;33m.\u001b[0m\u001b[0mcvtColor\u001b[0m\u001b[1;33m(\u001b[0m\u001b[0mimg2\u001b[0m\u001b[1;33m,\u001b[0m \u001b[0mcv2\u001b[0m\u001b[1;33m.\u001b[0m\u001b[0mCOLOR_BGR2RGB\u001b[0m\u001b[1;33m)\u001b[0m\u001b[1;33m\u001b[0m\u001b[1;33m\u001b[0m\u001b[0m\n\u001b[0;32m      9\u001b[0m \u001b[1;33m\u001b[0m\u001b[0m\n",
      "\u001b[1;31merror\u001b[0m: OpenCV(4.5.5) D:\\a\\opencv-python\\opencv-python\\opencv\\modules\\imgproc\\src\\color.cpp:182: error: (-215:Assertion failed) !_src.empty() in function 'cv::cvtColor'\n"
     ]
    }
   ],
   "source": [
    "plt.rcParams[\"figure.figsize\"] = [14, 7]\n",
    "\n",
    "img1 = cv2.imread('./data/faceRI.png')\n",
    "img2 = cv2.imread('./data/face.jpeg')\n",
    "\n",
    "\n",
    "img1_rgb = cv2.cvtColor(img1, cv2.COLOR_BGR2RGB)\n",
    "img2_rgb = cv2.cvtColor(img2, cv2.COLOR_BGR2RGB)\n",
    "\n",
    "plt.subplot(121)\n",
    "plt.title(\"img1_rgb\")\n",
    "plt.imshow(img1_rgb)\n",
    "\n",
    "plt.subplot(122)\n",
    "plt.title(\"img2_rgb\")\n",
    "plt.imshow(img2_rgb)\n",
    "plt.show()\n",
    "#############################\n",
    "\n",
    "query = cv2.cvtColor(img1_rgb, cv2.COLOR_BGR2GRAY)\n",
    "train = cv2.cvtColor(img2_rgb, cv2.COLOR_BGR2GRAY)\n",
    "\n",
    "orb = cv2.ORB_create(1000, 2) # keypoint의 갯수, scale factor\n",
    "\n",
    "query_keypoints, query_descriptor = orb.detectAndCompute(query, None)\n",
    "train_keypoints, train_descriptor = orb.detectAndCompute(train, None)\n",
    "\n",
    "print(\"[query] len(keypoints)\", len(query_keypoints))\n",
    "print(\"[query] descriptor.shape\", query_descriptor.shape)\n",
    "\n",
    "print(\"[train] len(keypoints)\", len(train_keypoints))\n",
    "print(\"[train] descriptor.shape\", train_descriptor.shape)\n",
    "\n",
    "matcher = cv2.BFMatcher_create(cv2.NORM_HAMMING, crossCheck=True) #True\n",
    "matches = matcher.match(query_descriptor, train_descriptor)\n",
    "\n",
    "sorted_matches = sorted(matches, key=lambda x: x.distance)\n",
    "good_matches = sorted_matches[:200]\n",
    "\n",
    "\n",
    "dst = cv2.drawMatches(query, query_keypoints, train, train_keypoints, good_matches, None, \n",
    "                      flags=cv2.DrawMatchesFlags_NOT_DRAW_SINGLE_POINTS) # 매칭되지 않은 keypoint는 표시하지 않음\n",
    "\n",
    "\n",
    "plt.subplot(121)\n",
    "plt.title(\"Best Matchin Result\")\n",
    "plt.imshow(dst)\n",
    "plt.show()"
   ]
  },
  {
   "cell_type": "markdown",
   "id": "755c8eaf",
   "metadata": {},
   "source": [
    "##### Noise Invariance"
   ]
  },
  {
   "cell_type": "code",
   "execution_count": 13,
   "id": "388cf840",
   "metadata": {},
   "outputs": [
    {
     "ename": "error",
     "evalue": "OpenCV(4.5.5) D:\\a\\opencv-python\\opencv-python\\opencv\\modules\\imgproc\\src\\color.cpp:182: error: (-215:Assertion failed) !_src.empty() in function 'cv::cvtColor'\n",
     "output_type": "error",
     "traceback": [
      "\u001b[1;31m---------------------------------------------------------------------------\u001b[0m",
      "\u001b[1;31merror\u001b[0m                                     Traceback (most recent call last)",
      "\u001b[1;32m~\\AppData\\Local\\Temp/ipykernel_15560/1859518639.py\u001b[0m in \u001b[0;36m<module>\u001b[1;34m\u001b[0m\n\u001b[0;32m      5\u001b[0m \u001b[1;33m\u001b[0m\u001b[0m\n\u001b[0;32m      6\u001b[0m \u001b[1;33m\u001b[0m\u001b[0m\n\u001b[1;32m----> 7\u001b[1;33m \u001b[0mimg1_rgb\u001b[0m \u001b[1;33m=\u001b[0m \u001b[0mcv2\u001b[0m\u001b[1;33m.\u001b[0m\u001b[0mcvtColor\u001b[0m\u001b[1;33m(\u001b[0m\u001b[0mimg1\u001b[0m\u001b[1;33m,\u001b[0m \u001b[0mcv2\u001b[0m\u001b[1;33m.\u001b[0m\u001b[0mCOLOR_BGR2RGB\u001b[0m\u001b[1;33m)\u001b[0m\u001b[1;33m\u001b[0m\u001b[1;33m\u001b[0m\u001b[0m\n\u001b[0m\u001b[0;32m      8\u001b[0m \u001b[0mimg2_rgb\u001b[0m \u001b[1;33m=\u001b[0m \u001b[0mcv2\u001b[0m\u001b[1;33m.\u001b[0m\u001b[0mcvtColor\u001b[0m\u001b[1;33m(\u001b[0m\u001b[0mimg2\u001b[0m\u001b[1;33m,\u001b[0m \u001b[0mcv2\u001b[0m\u001b[1;33m.\u001b[0m\u001b[0mCOLOR_BGR2RGB\u001b[0m\u001b[1;33m)\u001b[0m\u001b[1;33m\u001b[0m\u001b[1;33m\u001b[0m\u001b[0m\n\u001b[0;32m      9\u001b[0m \u001b[1;33m\u001b[0m\u001b[0m\n",
      "\u001b[1;31merror\u001b[0m: OpenCV(4.5.5) D:\\a\\opencv-python\\opencv-python\\opencv\\modules\\imgproc\\src\\color.cpp:182: error: (-215:Assertion failed) !_src.empty() in function 'cv::cvtColor'\n"
     ]
    }
   ],
   "source": [
    "plt.rcParams[\"figure.figsize\"] = [14, 7]\n",
    "\n",
    "img1 = cv2.imread('./data/faceRN5.png')\n",
    "img2 = cv2.imread('./data/face.jpeg')\n",
    "\n",
    "\n",
    "img1_rgb = cv2.cvtColor(img1, cv2.COLOR_BGR2RGB)\n",
    "img2_rgb = cv2.cvtColor(img2, cv2.COLOR_BGR2RGB)\n",
    "\n",
    "plt.subplot(121)\n",
    "plt.title(\"img1_rgb\")\n",
    "plt.imshow(img1_rgb)\n",
    "\n",
    "plt.subplot(122)\n",
    "plt.title(\"img2_rgb\")\n",
    "plt.imshow(img2_rgb)\n",
    "plt.show()\n",
    "#############################\n",
    "\n",
    "query = cv2.cvtColor(img1_rgb, cv2.COLOR_BGR2GRAY)\n",
    "train = cv2.cvtColor(img2_rgb, cv2.COLOR_BGR2GRAY)\n",
    "\n",
    "orb = cv2.ORB_create(1000, 2) # keypoint의 갯수, scale factor\n",
    "\n",
    "query_keypoints, query_descriptor = orb.detectAndCompute(query, None)\n",
    "train_keypoints, train_descriptor = orb.detectAndCompute(train, None)\n",
    "\n",
    "print(\"[query] len(keypoints)\", len(query_keypoints))\n",
    "print(\"[query] descriptor.shape\", query_descriptor.shape)\n",
    "\n",
    "print(\"[train] len(keypoints)\", len(train_keypoints))\n",
    "print(\"[train] descriptor.shape\", train_descriptor.shape)\n",
    "\n",
    "matcher = cv2.BFMatcher_create(cv2.NORM_HAMMING, crossCheck=True) #True\n",
    "matches = matcher.match(query_descriptor, train_descriptor)\n",
    "\n",
    "sorted_matches = sorted(matches, key=lambda x: x.distance)\n",
    "good_matches = sorted_matches[:200]\n",
    "\n",
    "\n",
    "dst = cv2.drawMatches(query, query_keypoints, train, train_keypoints, good_matches, None, \n",
    "                      flags=cv2.DrawMatchesFlags_NOT_DRAW_SINGLE_POINTS) # 매칭되지 않은 keypoint는 표시하지 않음\n",
    "\n",
    "\n",
    "plt.subplot(121)\n",
    "plt.title(\"Best Matchin Result\")\n",
    "plt.imshow(dst)\n",
    "plt.show()"
   ]
  },
  {
   "cell_type": "code",
   "execution_count": null,
   "id": "5a1722c5",
   "metadata": {},
   "outputs": [],
   "source": []
  },
  {
   "cell_type": "code",
   "execution_count": null,
   "id": "ee39ab6e",
   "metadata": {},
   "outputs": [],
   "source": []
  },
  {
   "cell_type": "code",
   "execution_count": null,
   "id": "37922428",
   "metadata": {},
   "outputs": [],
   "source": []
  },
  {
   "cell_type": "code",
   "execution_count": null,
   "id": "3118015d",
   "metadata": {},
   "outputs": [],
   "source": []
  },
  {
   "cell_type": "code",
   "execution_count": null,
   "id": "572daf80",
   "metadata": {},
   "outputs": [],
   "source": []
  }
 ],
 "metadata": {
  "kernelspec": {
   "display_name": "Python 3 (ipykernel)",
   "language": "python",
   "name": "python3"
  },
  "language_info": {
   "codemirror_mode": {
    "name": "ipython",
    "version": 3
   },
   "file_extension": ".py",
   "mimetype": "text/x-python",
   "name": "python",
   "nbconvert_exporter": "python",
   "pygments_lexer": "ipython3",
   "version": "3.9.7"
  }
 },
 "nbformat": 4,
 "nbformat_minor": 5
}
